{
 "cells": [
  {
   "cell_type": "markdown",
   "metadata": {},
   "source": [
    "### Youth smoking drug data"
   ]
  },
  {
   "cell_type": "markdown",
   "metadata": {},
   "source": [
    "The dataset provides information about smoking and drug experiments trends from 2020-2024,with approximately 10,000 records.\n",
    "\n"
   ]
  },
  {
   "cell_type": "markdown",
   "metadata": {},
   "source": [
    "### The dataset features.\n",
    "1.**Year**: The year of data collection.\n",
    "\n",
    "2.**Age_Group**: Age range (e.g., 10-14, 15-19, etc.).\n",
    "\n",
    "3.**Gender**: Gender (e.g., Male, Female, Both).\n",
    "\n",
    "4.**Smoking_Prevalence**: Percentage of youth who smoke.\n",
    "\n",
    "5.**Drug_Experimentation**: Percentage of youth experimenting with drugs.\n",
    "\n",
    "6.**Socioeconomic_Status**: Categories like High, Middle.\n",
    "\n",
    "7.**Peer_Influence**: A numeric measure of peer pressure.\n",
    "\n",
    "8.**School_Programs**: Whether schools have anti-smoking/drug programs.\n",
    "\n",
    "9.**Family_Background**: A numeric measure of family influence.\n",
    "\n",
    "10.**Mental_Health**: A numeric rating of mental health.\n",
    "\n",
    "11.**Access_to_Counseling**: Whether counseling is available.\n",
    "\n",
    "12.**Parental_Supervision**: A numeric measure of parental involvement.\n",
    "\n",
    "13.**Substance_Education**: Whether they received substance education.\n",
    "\n",
    "14.**Community_Support**: A numeric rating of community support.\n",
    "\n",
    "15.**Media_Influence**: A numeric measure of media influence."
   ]
  },
  {
   "cell_type": "markdown",
   "metadata": {},
   "source": [
    "### Key objectives:"
   ]
  },
  {
   "cell_type": "markdown",
   "metadata": {},
   "source": [
    "The dataset aims to help researches,public health organizations,and policymakers understand the patterns and factors influencing substance use among youth.By identifying trends and influential factors,stakeholders can make data-driven decisions to combat substance abuse effectively."
   ]
  },
  {
   "cell_type": "code",
   "execution_count": 31,
   "metadata": {},
   "outputs": [
    {
     "data": {
      "text/html": [
       "<div>\n",
       "<style scoped>\n",
       "    .dataframe tbody tr th:only-of-type {\n",
       "        vertical-align: middle;\n",
       "    }\n",
       "\n",
       "    .dataframe tbody tr th {\n",
       "        vertical-align: top;\n",
       "    }\n",
       "\n",
       "    .dataframe thead th {\n",
       "        text-align: right;\n",
       "    }\n",
       "</style>\n",
       "<table border=\"1\" class=\"dataframe\">\n",
       "  <thead>\n",
       "    <tr style=\"text-align: right;\">\n",
       "      <th></th>\n",
       "      <th>Year</th>\n",
       "      <th>Age_Group</th>\n",
       "      <th>Gender</th>\n",
       "      <th>Smoking_Prevalence</th>\n",
       "      <th>Drug_Experimentation</th>\n",
       "      <th>Socioeconomic_Status</th>\n",
       "      <th>Peer_Influence</th>\n",
       "      <th>School_Programs</th>\n",
       "      <th>Family_Background</th>\n",
       "      <th>Mental_Health</th>\n",
       "      <th>Access_to_Counseling</th>\n",
       "      <th>Parental_Supervision</th>\n",
       "      <th>Substance_Education</th>\n",
       "      <th>Community_Support</th>\n",
       "      <th>Media_Influence</th>\n",
       "    </tr>\n",
       "  </thead>\n",
       "  <tbody>\n",
       "    <tr>\n",
       "      <th>0</th>\n",
       "      <td>2024</td>\n",
       "      <td>15-19</td>\n",
       "      <td>Both</td>\n",
       "      <td>18.85</td>\n",
       "      <td>32.40</td>\n",
       "      <td>High</td>\n",
       "      <td>5</td>\n",
       "      <td>Yes</td>\n",
       "      <td>1</td>\n",
       "      <td>5</td>\n",
       "      <td>No</td>\n",
       "      <td>4</td>\n",
       "      <td>No</td>\n",
       "      <td>3</td>\n",
       "      <td>1</td>\n",
       "    </tr>\n",
       "    <tr>\n",
       "      <th>1</th>\n",
       "      <td>2024</td>\n",
       "      <td>10-14</td>\n",
       "      <td>Female</td>\n",
       "      <td>34.88</td>\n",
       "      <td>41.57</td>\n",
       "      <td>High</td>\n",
       "      <td>6</td>\n",
       "      <td>Yes</td>\n",
       "      <td>10</td>\n",
       "      <td>5</td>\n",
       "      <td>No</td>\n",
       "      <td>9</td>\n",
       "      <td>Yes</td>\n",
       "      <td>9</td>\n",
       "      <td>3</td>\n",
       "    </tr>\n",
       "    <tr>\n",
       "      <th>2</th>\n",
       "      <td>2023</td>\n",
       "      <td>10-14</td>\n",
       "      <td>Both</td>\n",
       "      <td>42.00</td>\n",
       "      <td>56.80</td>\n",
       "      <td>High</td>\n",
       "      <td>6</td>\n",
       "      <td>Yes</td>\n",
       "      <td>2</td>\n",
       "      <td>7</td>\n",
       "      <td>Yes</td>\n",
       "      <td>2</td>\n",
       "      <td>No</td>\n",
       "      <td>5</td>\n",
       "      <td>1</td>\n",
       "    </tr>\n",
       "    <tr>\n",
       "      <th>3</th>\n",
       "      <td>2024</td>\n",
       "      <td>40-49</td>\n",
       "      <td>Both</td>\n",
       "      <td>33.75</td>\n",
       "      <td>42.90</td>\n",
       "      <td>Middle</td>\n",
       "      <td>10</td>\n",
       "      <td>No</td>\n",
       "      <td>9</td>\n",
       "      <td>7</td>\n",
       "      <td>Yes</td>\n",
       "      <td>2</td>\n",
       "      <td>No</td>\n",
       "      <td>10</td>\n",
       "      <td>9</td>\n",
       "    </tr>\n",
       "    <tr>\n",
       "      <th>4</th>\n",
       "      <td>2023</td>\n",
       "      <td>15-19</td>\n",
       "      <td>Male</td>\n",
       "      <td>47.90</td>\n",
       "      <td>39.62</td>\n",
       "      <td>High</td>\n",
       "      <td>1</td>\n",
       "      <td>No</td>\n",
       "      <td>2</td>\n",
       "      <td>4</td>\n",
       "      <td>Yes</td>\n",
       "      <td>4</td>\n",
       "      <td>No</td>\n",
       "      <td>10</td>\n",
       "      <td>3</td>\n",
       "    </tr>\n",
       "  </tbody>\n",
       "</table>\n",
       "</div>"
      ],
      "text/plain": [
       "   Year Age_Group  Gender  Smoking_Prevalence  Drug_Experimentation  \\\n",
       "0  2024     15-19    Both               18.85                 32.40   \n",
       "1  2024     10-14  Female               34.88                 41.57   \n",
       "2  2023     10-14    Both               42.00                 56.80   \n",
       "3  2024     40-49    Both               33.75                 42.90   \n",
       "4  2023     15-19    Male               47.90                 39.62   \n",
       "\n",
       "  Socioeconomic_Status  Peer_Influence School_Programs  Family_Background  \\\n",
       "0                 High               5             Yes                  1   \n",
       "1                 High               6             Yes                 10   \n",
       "2                 High               6             Yes                  2   \n",
       "3               Middle              10              No                  9   \n",
       "4                 High               1              No                  2   \n",
       "\n",
       "   Mental_Health Access_to_Counseling  Parental_Supervision  \\\n",
       "0              5                   No                     4   \n",
       "1              5                   No                     9   \n",
       "2              7                  Yes                     2   \n",
       "3              7                  Yes                     2   \n",
       "4              4                  Yes                     4   \n",
       "\n",
       "  Substance_Education  Community_Support  Media_Influence  \n",
       "0                  No                  3                1  \n",
       "1                 Yes                  9                3  \n",
       "2                  No                  5                1  \n",
       "3                  No                 10                9  \n",
       "4                  No                 10                3  "
      ]
     },
     "execution_count": 31,
     "metadata": {},
     "output_type": "execute_result"
    }
   ],
   "source": [
    "import pandas as pd \n",
    "\n",
    "df= pd.read_csv('dataset/youth_smoking_drug_data_10000_rows_expanded.csv')\n",
    "\n",
    "df.head()"
   ]
  },
  {
   "cell_type": "code",
   "execution_count": 32,
   "metadata": {},
   "outputs": [
    {
     "data": {
      "text/plain": [
       "Index(['Year', 'Age_Group', 'Gender', 'Smoking_Prevalence',\n",
       "       'Drug_Experimentation', 'Socioeconomic_Status', 'Peer_Influence',\n",
       "       'School_Programs', 'Family_Background', 'Mental_Health',\n",
       "       'Access_to_Counseling', 'Parental_Supervision', 'Substance_Education',\n",
       "       'Community_Support', 'Media_Influence'],\n",
       "      dtype='object')"
      ]
     },
     "execution_count": 32,
     "metadata": {},
     "output_type": "execute_result"
    }
   ],
   "source": [
    "df.columns"
   ]
  },
  {
   "cell_type": "code",
   "execution_count": 33,
   "metadata": {},
   "outputs": [
    {
     "name": "stdout",
     "output_type": "stream",
     "text": [
      "<class 'pandas.core.frame.DataFrame'>\n",
      "RangeIndex: 10000 entries, 0 to 9999\n",
      "Data columns (total 15 columns):\n",
      " #   Column                Non-Null Count  Dtype  \n",
      "---  ------                --------------  -----  \n",
      " 0   Year                  10000 non-null  int64  \n",
      " 1   Age_Group             10000 non-null  object \n",
      " 2   Gender                10000 non-null  object \n",
      " 3   Smoking_Prevalence    10000 non-null  float64\n",
      " 4   Drug_Experimentation  10000 non-null  float64\n",
      " 5   Socioeconomic_Status  10000 non-null  object \n",
      " 6   Peer_Influence        10000 non-null  int64  \n",
      " 7   School_Programs       10000 non-null  object \n",
      " 8   Family_Background     10000 non-null  int64  \n",
      " 9   Mental_Health         10000 non-null  int64  \n",
      " 10  Access_to_Counseling  10000 non-null  object \n",
      " 11  Parental_Supervision  10000 non-null  int64  \n",
      " 12  Substance_Education   10000 non-null  object \n",
      " 13  Community_Support     10000 non-null  int64  \n",
      " 14  Media_Influence       10000 non-null  int64  \n",
      "dtypes: float64(2), int64(7), object(6)\n",
      "memory usage: 1.1+ MB\n"
     ]
    }
   ],
   "source": [
    "df.info()"
   ]
  },
  {
   "cell_type": "code",
   "execution_count": 34,
   "metadata": {},
   "outputs": [
    {
     "data": {
      "text/plain": [
       "Year                    0\n",
       "Age_Group               0\n",
       "Gender                  0\n",
       "Smoking_Prevalence      0\n",
       "Drug_Experimentation    0\n",
       "Socioeconomic_Status    0\n",
       "Peer_Influence          0\n",
       "School_Programs         0\n",
       "Family_Background       0\n",
       "Mental_Health           0\n",
       "Access_to_Counseling    0\n",
       "Parental_Supervision    0\n",
       "Substance_Education     0\n",
       "Community_Support       0\n",
       "Media_Influence         0\n",
       "dtype: int64"
      ]
     },
     "execution_count": 34,
     "metadata": {},
     "output_type": "execute_result"
    }
   ],
   "source": [
    "df.isnull().sum()"
   ]
  },
  {
   "cell_type": "markdown",
   "metadata": {},
   "source": [
    "The dataset does not contain the null-values has 10,000 records"
   ]
  },
  {
   "cell_type": "code",
   "execution_count": 35,
   "metadata": {},
   "outputs": [
    {
     "name": "stdout",
     "output_type": "stream",
     "text": [
      "<class 'pandas.core.frame.DataFrame'>\n",
      "RangeIndex: 10000 entries, 0 to 9999\n",
      "Data columns (total 15 columns):\n",
      " #   Column                Non-Null Count  Dtype  \n",
      "---  ------                --------------  -----  \n",
      " 0   Year                  10000 non-null  int64  \n",
      " 1   Age_Group             10000 non-null  object \n",
      " 2   Gender                10000 non-null  object \n",
      " 3   Smoking_Prevalence    10000 non-null  float64\n",
      " 4   Drug_Experimentation  10000 non-null  float64\n",
      " 5   Socioeconomic_Status  10000 non-null  object \n",
      " 6   Peer_Influence        10000 non-null  int64  \n",
      " 7   School_Programs       10000 non-null  object \n",
      " 8   Family_Background     10000 non-null  int64  \n",
      " 9   Mental_Health         10000 non-null  int64  \n",
      " 10  Access_to_Counseling  10000 non-null  object \n",
      " 11  Parental_Supervision  10000 non-null  int64  \n",
      " 12  Substance_Education   10000 non-null  object \n",
      " 13  Community_Support     10000 non-null  int64  \n",
      " 14  Media_Influence       10000 non-null  int64  \n",
      "dtypes: float64(2), int64(7), object(6)\n",
      "memory usage: 1.1+ MB\n"
     ]
    }
   ],
   "source": [
    "df.info()"
   ]
  },
  {
   "cell_type": "markdown",
   "metadata": {},
   "source": [
    "***Categorical columns***"
   ]
  },
  {
   "cell_type": "code",
   "execution_count": 36,
   "metadata": {},
   "outputs": [],
   "source": [
    "categorical = ['Age_Group', 'Gender', 'Socioeconomic_Status', 'School_Programs', 'Access_to_Counseling', 'Substance_Education']"
   ]
  },
  {
   "cell_type": "code",
   "execution_count": 37,
   "metadata": {},
   "outputs": [
    {
     "name": "stdout",
     "output_type": "stream",
     "text": [
      "There are 6 categorical variables\n",
      "\n",
      "The categorical variables are: ['Age_Group', 'Gender', 'Socioeconomic_Status', 'School_Programs', 'Access_to_Counseling', 'Substance_Education']\n"
     ]
    }
   ],
   "source": [
    "categorical = [var for var in df.columns if df[var].dtype=='O'] \n",
    "print('There are {} categorical variables\\n'.format(len(categorical))) \n",
    "print('The categorical variables are:',categorical) "
   ]
  },
  {
   "cell_type": "markdown",
   "metadata": {},
   "source": [
    "***Converted the categorical columns to numerical values using one hot encoding to make effective model without any interruptions***"
   ]
  },
  {
   "cell_type": "code",
   "execution_count": 38,
   "metadata": {},
   "outputs": [
    {
     "data": {
      "text/html": [
       "<div>\n",
       "<style scoped>\n",
       "    .dataframe tbody tr th:only-of-type {\n",
       "        vertical-align: middle;\n",
       "    }\n",
       "\n",
       "    .dataframe tbody tr th {\n",
       "        vertical-align: top;\n",
       "    }\n",
       "\n",
       "    .dataframe thead th {\n",
       "        text-align: right;\n",
       "    }\n",
       "</style>\n",
       "<table border=\"1\" class=\"dataframe\">\n",
       "  <thead>\n",
       "    <tr style=\"text-align: right;\">\n",
       "      <th></th>\n",
       "      <th>Age_Group</th>\n",
       "      <th>Gender</th>\n",
       "      <th>Socioeconomic_Status</th>\n",
       "      <th>School_Programs</th>\n",
       "      <th>Access_to_Counseling</th>\n",
       "      <th>Substance_Education</th>\n",
       "    </tr>\n",
       "  </thead>\n",
       "  <tbody>\n",
       "    <tr>\n",
       "      <th>0</th>\n",
       "      <td>15-19</td>\n",
       "      <td>Both</td>\n",
       "      <td>High</td>\n",
       "      <td>Yes</td>\n",
       "      <td>No</td>\n",
       "      <td>No</td>\n",
       "    </tr>\n",
       "    <tr>\n",
       "      <th>1</th>\n",
       "      <td>10-14</td>\n",
       "      <td>Female</td>\n",
       "      <td>High</td>\n",
       "      <td>Yes</td>\n",
       "      <td>No</td>\n",
       "      <td>Yes</td>\n",
       "    </tr>\n",
       "    <tr>\n",
       "      <th>2</th>\n",
       "      <td>10-14</td>\n",
       "      <td>Both</td>\n",
       "      <td>High</td>\n",
       "      <td>Yes</td>\n",
       "      <td>Yes</td>\n",
       "      <td>No</td>\n",
       "    </tr>\n",
       "    <tr>\n",
       "      <th>3</th>\n",
       "      <td>40-49</td>\n",
       "      <td>Both</td>\n",
       "      <td>Middle</td>\n",
       "      <td>No</td>\n",
       "      <td>Yes</td>\n",
       "      <td>No</td>\n",
       "    </tr>\n",
       "    <tr>\n",
       "      <th>4</th>\n",
       "      <td>15-19</td>\n",
       "      <td>Male</td>\n",
       "      <td>High</td>\n",
       "      <td>No</td>\n",
       "      <td>Yes</td>\n",
       "      <td>No</td>\n",
       "    </tr>\n",
       "  </tbody>\n",
       "</table>\n",
       "</div>"
      ],
      "text/plain": [
       "  Age_Group  Gender Socioeconomic_Status School_Programs Access_to_Counseling  \\\n",
       "0     15-19    Both                 High             Yes                   No   \n",
       "1     10-14  Female                 High             Yes                   No   \n",
       "2     10-14    Both                 High             Yes                  Yes   \n",
       "3     40-49    Both               Middle              No                  Yes   \n",
       "4     15-19    Male                 High              No                  Yes   \n",
       "\n",
       "  Substance_Education  \n",
       "0                  No  \n",
       "1                 Yes  \n",
       "2                  No  \n",
       "3                  No  \n",
       "4                  No  "
      ]
     },
     "execution_count": 38,
     "metadata": {},
     "output_type": "execute_result"
    }
   ],
   "source": [
    "df[categorical].head()"
   ]
  },
  {
   "cell_type": "markdown",
   "metadata": {},
   "source": [
    "***checking for missing values in categorical variables***"
   ]
  },
  {
   "cell_type": "code",
   "execution_count": 39,
   "metadata": {},
   "outputs": [
    {
     "data": {
      "text/plain": [
       "Age_Group               0\n",
       "Gender                  0\n",
       "Socioeconomic_Status    0\n",
       "School_Programs         0\n",
       "Access_to_Counseling    0\n",
       "Substance_Education     0\n",
       "dtype: int64"
      ]
     },
     "execution_count": 39,
     "metadata": {},
     "output_type": "execute_result"
    }
   ],
   "source": [
    "df[categorical].isnull().sum()"
   ]
  },
  {
   "cell_type": "markdown",
   "metadata": {},
   "source": [
    "***viewing frequency of categorical variables***"
   ]
  },
  {
   "cell_type": "code",
   "execution_count": 40,
   "metadata": {},
   "outputs": [
    {
     "name": "stdout",
     "output_type": "stream",
     "text": [
      "Age_Group\n",
      "20-24    1045\n",
      "30-39    1021\n",
      "60-69    1020\n",
      "15-19    1014\n",
      "10-14    1007\n",
      "40-49    1001\n",
      "50-59    1001\n",
      "80+       979\n",
      "25-29     974\n",
      "70-79     938\n",
      "Name: count, dtype: int64\n",
      "Gender\n",
      "Both      3415\n",
      "Male      3294\n",
      "Female    3291\n",
      "Name: count, dtype: int64\n",
      "Socioeconomic_Status\n",
      "High      3364\n",
      "Middle    3344\n",
      "Low       3292\n",
      "Name: count, dtype: int64\n",
      "School_Programs\n",
      "No     5041\n",
      "Yes    4959\n",
      "Name: count, dtype: int64\n",
      "Access_to_Counseling\n",
      "No     5085\n",
      "Yes    4915\n",
      "Name: count, dtype: int64\n",
      "Substance_Education\n",
      "Yes    5011\n",
      "No     4989\n",
      "Name: count, dtype: int64\n"
     ]
    }
   ],
   "source": [
    "for var in categorical: \n",
    "    print(df[var].value_counts())"
   ]
  },
  {
   "cell_type": "markdown",
   "metadata": {},
   "source": [
    "**Age_Group**: Slight variation between groups, but no severe imbalance.\n",
    "\n",
    "**Gender**: Well-balanced distribution with slightly more individuals identifying as Both.\n",
    "\n",
    "**Socioeconomic_Status**: Even distribution across High, Middle, and Low categories.\n",
    "\n",
    "**School_Programs**: Nearly equal distribution between those with and without access. \n",
    "**Substance_Education**: Perfectly balanced."
   ]
  },
  {
   "cell_type": "code",
   "execution_count": 41,
   "metadata": {},
   "outputs": [
    {
     "name": "stdout",
     "output_type": "stream",
     "text": [
      "Age_Group contains 10 labels\n",
      "Gender contains 3 labels\n",
      "Socioeconomic_Status contains 3 labels\n",
      "School_Programs contains 2 labels\n",
      "Access_to_Counseling contains 2 labels\n",
      "Substance_Education contains 2 labels\n"
     ]
    }
   ],
   "source": [
    "#checking for cardinality in categorical values.\n",
    "for var in categorical: \n",
    "    print(var, 'contains' ,len(df[var].unique()), 'labels')"
   ]
  },
  {
   "cell_type": "markdown",
   "metadata": {},
   "source": [
    " Age group has a moderate cardinality with 10 labels which may not be useful for the model , could raise issues when performing one hot encoding.\n",
    "\n",
    " Gender and Socioeconomic_Status contains 3 labels showing low cardinality that when one hot encoding is performed it wont be much affected.\n",
    " \n",
    " School_Programs,Access_to_Counselling,Substance_Education contains 2 labels indicating low cardinality this would be suitable when performing one hot encoding"
   ]
  },
  {
   "cell_type": "markdown",
   "metadata": {},
   "source": [
    "### Feature Engineering"
   ]
  },
  {
   "cell_type": "markdown",
   "metadata": {},
   "source": [
    "### Explore Age_group Variable"
   ]
  },
  {
   "cell_type": "code",
   "execution_count": 42,
   "metadata": {},
   "outputs": [
    {
     "name": "stdout",
     "output_type": "stream",
     "text": [
      "Age group contains 10 label\n"
     ]
    }
   ],
   "source": [
    "print('Age group contains' , len(df['Age_Group'].unique()),'label')"
   ]
  },
  {
   "cell_type": "code",
   "execution_count": 43,
   "metadata": {},
   "outputs": [
    {
     "data": {
      "text/plain": [
       "array(['15-19', '10-14', '40-49', '70-79', '30-39', '60-69', '50-59',\n",
       "       '25-29', '80+', '20-24'], dtype=object)"
      ]
     },
     "execution_count": 43,
     "metadata": {},
     "output_type": "execute_result"
    }
   ],
   "source": [
    "df['Age_Group'].unique()"
   ]
  },
  {
   "cell_type": "code",
   "execution_count": 44,
   "metadata": {},
   "outputs": [
    {
     "data": {
      "text/plain": [
       "Age_Group\n",
       "20-24    1045\n",
       "30-39    1021\n",
       "60-69    1020\n",
       "15-19    1014\n",
       "10-14    1007\n",
       "40-49    1001\n",
       "50-59    1001\n",
       "80+       979\n",
       "25-29     974\n",
       "70-79     938\n",
       "Name: count, dtype: int64"
      ]
     },
     "execution_count": 44,
     "metadata": {},
     "output_type": "execute_result"
    }
   ],
   "source": [
    "# checking for frequency distribution of values in Age_Group variable \n",
    "df['Age_Group'].value_counts()"
   ]
  },
  {
   "cell_type": "markdown",
   "metadata": {},
   "source": [
    "The counts for each age group are relatively close, ranging from 938 to 1045. This indicates that your dataset has a fairly balanced representation of different age groups, with no age group dominating the dataset. The largest group (20-24) has 1,045 entries, and the smallest group (70-79) has 938 entries, a difference of about 107, which is not significant considering the total size."
   ]
  },
  {
   "cell_type": "markdown",
   "metadata": {},
   "source": [
    "Exploring Gender variable\n"
   ]
  },
  {
   "cell_type": "code",
   "execution_count": 45,
   "metadata": {},
   "outputs": [
    {
     "name": "stdout",
     "output_type": "stream",
     "text": [
      "Gender 3 label\n"
     ]
    }
   ],
   "source": [
    "print('Gender',len(df['Gender'].unique()),'label')"
   ]
  },
  {
   "cell_type": "code",
   "execution_count": 46,
   "metadata": {},
   "outputs": [
    {
     "data": {
      "text/plain": [
       "Gender\n",
       "Both      3415\n",
       "Male      3294\n",
       "Female    3291\n",
       "Name: count, dtype: int64"
      ]
     },
     "execution_count": 46,
     "metadata": {},
     "output_type": "execute_result"
    }
   ],
   "source": [
    "df['Gender'].value_counts()"
   ]
  },
  {
   "cell_type": "markdown",
   "metadata": {},
   "source": [
    "The Male and Female groups have nearly identical counts, with 3,294 males and 3,291 females, indicating a balanced gender distribution in the dataset."
   ]
  },
  {
   "cell_type": "code",
   "execution_count": 47,
   "metadata": {},
   "outputs": [
    {
     "data": {
      "text/html": [
       "<div>\n",
       "<style scoped>\n",
       "    .dataframe tbody tr th:only-of-type {\n",
       "        vertical-align: middle;\n",
       "    }\n",
       "\n",
       "    .dataframe tbody tr th {\n",
       "        vertical-align: top;\n",
       "    }\n",
       "\n",
       "    .dataframe thead th {\n",
       "        text-align: right;\n",
       "    }\n",
       "</style>\n",
       "<table border=\"1\" class=\"dataframe\">\n",
       "  <thead>\n",
       "    <tr style=\"text-align: right;\">\n",
       "      <th></th>\n",
       "      <th>Both</th>\n",
       "      <th>Female</th>\n",
       "      <th>Male</th>\n",
       "    </tr>\n",
       "  </thead>\n",
       "  <tbody>\n",
       "    <tr>\n",
       "      <th>0</th>\n",
       "      <td>1</td>\n",
       "      <td>0</td>\n",
       "      <td>0</td>\n",
       "    </tr>\n",
       "    <tr>\n",
       "      <th>1</th>\n",
       "      <td>0</td>\n",
       "      <td>1</td>\n",
       "      <td>0</td>\n",
       "    </tr>\n",
       "    <tr>\n",
       "      <th>2</th>\n",
       "      <td>1</td>\n",
       "      <td>0</td>\n",
       "      <td>0</td>\n",
       "    </tr>\n",
       "    <tr>\n",
       "      <th>3</th>\n",
       "      <td>1</td>\n",
       "      <td>0</td>\n",
       "      <td>0</td>\n",
       "    </tr>\n",
       "    <tr>\n",
       "      <th>4</th>\n",
       "      <td>0</td>\n",
       "      <td>0</td>\n",
       "      <td>1</td>\n",
       "    </tr>\n",
       "  </tbody>\n",
       "</table>\n",
       "</div>"
      ],
      "text/plain": [
       "   Both  Female  Male\n",
       "0     1       0     0\n",
       "1     0       1     0\n",
       "2     1       0     0\n",
       "3     1       0     0\n",
       "4     0       0     1"
      ]
     },
     "execution_count": 47,
     "metadata": {},
     "output_type": "execute_result"
    }
   ],
   "source": [
    "pd.get_dummies(df['Gender'], drop_first=False, dtype='int').head()"
   ]
  },
  {
   "cell_type": "markdown",
   "metadata": {},
   "source": [
    "Exploring Socioeconomic_Status Variable"
   ]
  },
  {
   "cell_type": "code",
   "execution_count": 48,
   "metadata": {},
   "outputs": [
    {
     "name": "stdout",
     "output_type": "stream",
     "text": [
      "Socioeconomic_Status 3 label\n"
     ]
    }
   ],
   "source": [
    "print('Socioeconomic_Status',len(df['Socioeconomic_Status'].unique()),'label')"
   ]
  },
  {
   "cell_type": "code",
   "execution_count": 49,
   "metadata": {},
   "outputs": [
    {
     "data": {
      "text/plain": [
       "Socioeconomic_Status\n",
       "High      3364\n",
       "Middle    3344\n",
       "Low       3292\n",
       "Name: count, dtype: int64"
      ]
     },
     "execution_count": 49,
     "metadata": {},
     "output_type": "execute_result"
    }
   ],
   "source": [
    "df['Socioeconomic_Status'].value_counts()"
   ]
  },
  {
   "cell_type": "markdown",
   "metadata": {},
   "source": [
    "Balanced Distribution: The three categories—High (3,364), Middle (3,344), and Low (3,292)—are very close in count, suggesting a balanced representation of different socioeconomic statuses. The differences between them are minimal, with a gap of just 72 entries between the largest (High) and the smallest (Low) categories.\n",
    "\n",
    "Equitable Coverage: Since all socioeconomic groups are similarly represented, the data should provide a fairly unbiased look at how different socioeconomic statuses impact outcomes such as smoking prevalence or drug experimentation."
   ]
  },
  {
   "cell_type": "markdown",
   "metadata": {},
   "source": [
    "Exploring School_Programs"
   ]
  },
  {
   "cell_type": "code",
   "execution_count": 50,
   "metadata": {},
   "outputs": [
    {
     "name": "stdout",
     "output_type": "stream",
     "text": [
      "School_Programs 2 label\n"
     ]
    }
   ],
   "source": [
    "print('School_Programs',len (df['School_Programs'].unique()),'label')"
   ]
  },
  {
   "cell_type": "code",
   "execution_count": 51,
   "metadata": {},
   "outputs": [
    {
     "data": {
      "text/plain": [
       "School_Programs\n",
       "No     5041\n",
       "Yes    4959\n",
       "Name: count, dtype: int64"
      ]
     },
     "execution_count": 51,
     "metadata": {},
     "output_type": "execute_result"
    }
   ],
   "source": [
    "df['School_Programs'].value_counts()"
   ]
  },
  {
   "cell_type": "code",
   "execution_count": 52,
   "metadata": {},
   "outputs": [
    {
     "name": "stdout",
     "output_type": "stream",
     "text": [
      "Access_to_Counseling 2 label\n"
     ]
    }
   ],
   "source": [
    "print('Access_to_Counseling', len(df['Access_to_Counseling'].unique()),'label')"
   ]
  },
  {
   "cell_type": "code",
   "execution_count": 53,
   "metadata": {},
   "outputs": [
    {
     "data": {
      "text/plain": [
       "Access_to_Counseling\n",
       "No     5085\n",
       "Yes    4915\n",
       "Name: count, dtype: int64"
      ]
     },
     "execution_count": 53,
     "metadata": {},
     "output_type": "execute_result"
    }
   ],
   "source": [
    "df['Access_to_Counseling'].value_counts()"
   ]
  },
  {
   "cell_type": "code",
   "execution_count": 54,
   "metadata": {},
   "outputs": [
    {
     "name": "stdout",
     "output_type": "stream",
     "text": [
      "Substance_Education 2 label\n"
     ]
    }
   ],
   "source": [
    "print('Substance_Education',len(df['Substance_Education'].unique()),'label')"
   ]
  },
  {
   "cell_type": "code",
   "execution_count": 55,
   "metadata": {},
   "outputs": [
    {
     "data": {
      "text/plain": [
       "Substance_Education\n",
       "Yes    5011\n",
       "No     4989\n",
       "Name: count, dtype: int64"
      ]
     },
     "execution_count": 55,
     "metadata": {},
     "output_type": "execute_result"
    }
   ],
   "source": [
    "df['Substance_Education'].value_counts()"
   ]
  },
  {
   "cell_type": "code",
   "execution_count": 56,
   "metadata": {},
   "outputs": [
    {
     "name": "stdout",
     "output_type": "stream",
     "text": [
      "<class 'pandas.core.frame.DataFrame'>\n",
      "RangeIndex: 10000 entries, 0 to 9999\n",
      "Data columns (total 15 columns):\n",
      " #   Column                Non-Null Count  Dtype  \n",
      "---  ------                --------------  -----  \n",
      " 0   Year                  10000 non-null  int64  \n",
      " 1   Age_Group             10000 non-null  object \n",
      " 2   Gender                10000 non-null  object \n",
      " 3   Smoking_Prevalence    10000 non-null  float64\n",
      " 4   Drug_Experimentation  10000 non-null  float64\n",
      " 5   Socioeconomic_Status  10000 non-null  object \n",
      " 6   Peer_Influence        10000 non-null  int64  \n",
      " 7   School_Programs       10000 non-null  object \n",
      " 8   Family_Background     10000 non-null  int64  \n",
      " 9   Mental_Health         10000 non-null  int64  \n",
      " 10  Access_to_Counseling  10000 non-null  object \n",
      " 11  Parental_Supervision  10000 non-null  int64  \n",
      " 12  Substance_Education   10000 non-null  object \n",
      " 13  Community_Support     10000 non-null  int64  \n",
      " 14  Media_Influence       10000 non-null  int64  \n",
      "dtypes: float64(2), int64(7), object(6)\n",
      "memory usage: 1.1+ MB\n"
     ]
    }
   ],
   "source": [
    "df.info()"
   ]
  },
  {
   "cell_type": "code",
   "execution_count": 58,
   "metadata": {},
   "outputs": [
    {
     "data": {
      "text/html": [
       "<div>\n",
       "<style scoped>\n",
       "    .dataframe tbody tr th:only-of-type {\n",
       "        vertical-align: middle;\n",
       "    }\n",
       "\n",
       "    .dataframe tbody tr th {\n",
       "        vertical-align: top;\n",
       "    }\n",
       "\n",
       "    .dataframe thead th {\n",
       "        text-align: right;\n",
       "    }\n",
       "</style>\n",
       "<table border=\"1\" class=\"dataframe\">\n",
       "  <thead>\n",
       "    <tr style=\"text-align: right;\">\n",
       "      <th></th>\n",
       "      <th>Year</th>\n",
       "      <th>Smoking_Prevalence</th>\n",
       "      <th>Drug_Experimentation</th>\n",
       "      <th>Peer_Influence</th>\n",
       "      <th>Family_Background</th>\n",
       "      <th>Mental_Health</th>\n",
       "      <th>Parental_Supervision</th>\n",
       "      <th>Community_Support</th>\n",
       "      <th>Media_Influence</th>\n",
       "      <th>Age_Group_10-14</th>\n",
       "      <th>...</th>\n",
       "      <th>Gender_Male</th>\n",
       "      <th>Socioeconomic_Status_High</th>\n",
       "      <th>Socioeconomic_Status_Low</th>\n",
       "      <th>Socioeconomic_Status_Middle</th>\n",
       "      <th>School_Programs_No</th>\n",
       "      <th>School_Programs_Yes</th>\n",
       "      <th>Access_to_Counseling_No</th>\n",
       "      <th>Access_to_Counseling_Yes</th>\n",
       "      <th>Substance_Education_No</th>\n",
       "      <th>Substance_Education_Yes</th>\n",
       "    </tr>\n",
       "  </thead>\n",
       "  <tbody>\n",
       "    <tr>\n",
       "      <th>0</th>\n",
       "      <td>2024</td>\n",
       "      <td>18.85</td>\n",
       "      <td>32.40</td>\n",
       "      <td>5</td>\n",
       "      <td>1</td>\n",
       "      <td>5</td>\n",
       "      <td>4</td>\n",
       "      <td>3</td>\n",
       "      <td>1</td>\n",
       "      <td>False</td>\n",
       "      <td>...</td>\n",
       "      <td>False</td>\n",
       "      <td>True</td>\n",
       "      <td>False</td>\n",
       "      <td>False</td>\n",
       "      <td>False</td>\n",
       "      <td>True</td>\n",
       "      <td>True</td>\n",
       "      <td>False</td>\n",
       "      <td>True</td>\n",
       "      <td>False</td>\n",
       "    </tr>\n",
       "    <tr>\n",
       "      <th>1</th>\n",
       "      <td>2024</td>\n",
       "      <td>34.88</td>\n",
       "      <td>41.57</td>\n",
       "      <td>6</td>\n",
       "      <td>10</td>\n",
       "      <td>5</td>\n",
       "      <td>9</td>\n",
       "      <td>9</td>\n",
       "      <td>3</td>\n",
       "      <td>True</td>\n",
       "      <td>...</td>\n",
       "      <td>False</td>\n",
       "      <td>True</td>\n",
       "      <td>False</td>\n",
       "      <td>False</td>\n",
       "      <td>False</td>\n",
       "      <td>True</td>\n",
       "      <td>True</td>\n",
       "      <td>False</td>\n",
       "      <td>False</td>\n",
       "      <td>True</td>\n",
       "    </tr>\n",
       "    <tr>\n",
       "      <th>2</th>\n",
       "      <td>2023</td>\n",
       "      <td>42.00</td>\n",
       "      <td>56.80</td>\n",
       "      <td>6</td>\n",
       "      <td>2</td>\n",
       "      <td>7</td>\n",
       "      <td>2</td>\n",
       "      <td>5</td>\n",
       "      <td>1</td>\n",
       "      <td>True</td>\n",
       "      <td>...</td>\n",
       "      <td>False</td>\n",
       "      <td>True</td>\n",
       "      <td>False</td>\n",
       "      <td>False</td>\n",
       "      <td>False</td>\n",
       "      <td>True</td>\n",
       "      <td>False</td>\n",
       "      <td>True</td>\n",
       "      <td>True</td>\n",
       "      <td>False</td>\n",
       "    </tr>\n",
       "    <tr>\n",
       "      <th>3</th>\n",
       "      <td>2024</td>\n",
       "      <td>33.75</td>\n",
       "      <td>42.90</td>\n",
       "      <td>10</td>\n",
       "      <td>9</td>\n",
       "      <td>7</td>\n",
       "      <td>2</td>\n",
       "      <td>10</td>\n",
       "      <td>9</td>\n",
       "      <td>False</td>\n",
       "      <td>...</td>\n",
       "      <td>False</td>\n",
       "      <td>False</td>\n",
       "      <td>False</td>\n",
       "      <td>True</td>\n",
       "      <td>True</td>\n",
       "      <td>False</td>\n",
       "      <td>False</td>\n",
       "      <td>True</td>\n",
       "      <td>True</td>\n",
       "      <td>False</td>\n",
       "    </tr>\n",
       "    <tr>\n",
       "      <th>4</th>\n",
       "      <td>2023</td>\n",
       "      <td>47.90</td>\n",
       "      <td>39.62</td>\n",
       "      <td>1</td>\n",
       "      <td>2</td>\n",
       "      <td>4</td>\n",
       "      <td>4</td>\n",
       "      <td>10</td>\n",
       "      <td>3</td>\n",
       "      <td>False</td>\n",
       "      <td>...</td>\n",
       "      <td>True</td>\n",
       "      <td>True</td>\n",
       "      <td>False</td>\n",
       "      <td>False</td>\n",
       "      <td>True</td>\n",
       "      <td>False</td>\n",
       "      <td>False</td>\n",
       "      <td>True</td>\n",
       "      <td>True</td>\n",
       "      <td>False</td>\n",
       "    </tr>\n",
       "  </tbody>\n",
       "</table>\n",
       "<p>5 rows × 31 columns</p>\n",
       "</div>"
      ],
      "text/plain": [
       "   Year  Smoking_Prevalence  Drug_Experimentation  Peer_Influence  \\\n",
       "0  2024               18.85                 32.40               5   \n",
       "1  2024               34.88                 41.57               6   \n",
       "2  2023               42.00                 56.80               6   \n",
       "3  2024               33.75                 42.90              10   \n",
       "4  2023               47.90                 39.62               1   \n",
       "\n",
       "   Family_Background  Mental_Health  Parental_Supervision  Community_Support  \\\n",
       "0                  1              5                     4                  3   \n",
       "1                 10              5                     9                  9   \n",
       "2                  2              7                     2                  5   \n",
       "3                  9              7                     2                 10   \n",
       "4                  2              4                     4                 10   \n",
       "\n",
       "   Media_Influence  Age_Group_10-14  ...  Gender_Male  \\\n",
       "0                1            False  ...        False   \n",
       "1                3             True  ...        False   \n",
       "2                1             True  ...        False   \n",
       "3                9            False  ...        False   \n",
       "4                3            False  ...         True   \n",
       "\n",
       "   Socioeconomic_Status_High  Socioeconomic_Status_Low  \\\n",
       "0                       True                     False   \n",
       "1                       True                     False   \n",
       "2                       True                     False   \n",
       "3                      False                     False   \n",
       "4                       True                     False   \n",
       "\n",
       "   Socioeconomic_Status_Middle  School_Programs_No  School_Programs_Yes  \\\n",
       "0                        False               False                 True   \n",
       "1                        False               False                 True   \n",
       "2                        False               False                 True   \n",
       "3                         True                True                False   \n",
       "4                        False                True                False   \n",
       "\n",
       "   Access_to_Counseling_No  Access_to_Counseling_Yes  Substance_Education_No  \\\n",
       "0                     True                     False                    True   \n",
       "1                     True                     False                   False   \n",
       "2                    False                      True                    True   \n",
       "3                    False                      True                    True   \n",
       "4                    False                      True                    True   \n",
       "\n",
       "   Substance_Education_Yes  \n",
       "0                    False  \n",
       "1                     True  \n",
       "2                    False  \n",
       "3                    False  \n",
       "4                    False  \n",
       "\n",
       "[5 rows x 31 columns]"
      ]
     },
     "execution_count": 58,
     "metadata": {},
     "output_type": "execute_result"
    }
   ],
   "source": [
    "df_encoded = pd.get_dummies(df, columns=categorical, drop_first=False)\n",
    "df_encoded.head()"
   ]
  },
  {
   "cell_type": "markdown",
   "metadata": {},
   "source": [
    "### Frequency of categorical features"
   ]
  },
  {
   "cell_type": "code",
   "execution_count": null,
   "metadata": {},
   "outputs": [],
   "source": [
    "import seaborn as sns \n"
   ]
  }
 ],
 "metadata": {
  "kernelspec": {
   "display_name": "base",
   "language": "python",
   "name": "python3"
  },
  "language_info": {
   "codemirror_mode": {
    "name": "ipython",
    "version": 3
   },
   "file_extension": ".py",
   "mimetype": "text/x-python",
   "name": "python",
   "nbconvert_exporter": "python",
   "pygments_lexer": "ipython3",
   "version": "3.11.7"
  }
 },
 "nbformat": 4,
 "nbformat_minor": 2
}
