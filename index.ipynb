{
 "cells": [
  {
   "cell_type": "markdown",
   "metadata": {},
   "source": [
    "### Youth smoking drug data"
   ]
  },
  {
   "cell_type": "markdown",
   "metadata": {},
   "source": [
    "The dataset provides information about smoking and drug experiments trends from 2020-2024,with approximately 10,000 records.\n",
    "\n"
   ]
  },
  {
   "cell_type": "markdown",
   "metadata": {},
   "source": [
    "### The dataset features.\n",
    "1.**Year**: The year of data collection.\n",
    "\n",
    "2.**Age_Group**: Age range (e.g., 10-14, 15-19, etc.).\n",
    "\n",
    "3.**Gender**: Gender (e.g., Male, Female, Both).\n",
    "\n",
    "4.**Smoking_Prevalence**: Percentage of youth who smoke.\n",
    "\n",
    "5.**Drug_Experimentation**: Percentage of youth experimenting with drugs.\n",
    "\n",
    "6.**Socioeconomic_Status**: Categories like High, Middle.\n",
    "\n",
    "7.**Peer_Influence**: A numeric measure of peer pressure.\n",
    "\n",
    "8.**School_Programs**: Whether schools have anti-smoking/drug programs.\n",
    "\n",
    "9.**Family_Background**: A numeric measure of family influence.\n",
    "\n",
    "10.**Mental_Health**: A numeric rating of mental health.\n",
    "\n",
    "11.**Access_to_Counseling**: Whether counseling is available.\n",
    "\n",
    "12.**Parental_Supervision**: A numeric measure of parental involvement.\n",
    "\n",
    "13.**Substance_Education**: Whether they received substance education.\n",
    "\n",
    "14.**Community_Support**: A numeric rating of community support.\n",
    "\n",
    "15.**Media_Influence**: A numeric measure of media influence."
   ]
  },
  {
   "cell_type": "markdown",
   "metadata": {},
   "source": [
    "### Key objectives:"
   ]
  },
  {
   "cell_type": "markdown",
   "metadata": {},
   "source": [
    "The dataset aims to help researches,public health organizations,and policymakers understand the patterns and factors influencing substance use among youth.By identifying trends and influential factors,stakeholders can make data-driven decisions to combat substance abuse effectively."
   ]
  },
  {
   "cell_type": "code",
   "execution_count": 2,
   "metadata": {},
   "outputs": [
    {
     "data": {
      "text/html": [
       "<div>\n",
       "<style scoped>\n",
       "    .dataframe tbody tr th:only-of-type {\n",
       "        vertical-align: middle;\n",
       "    }\n",
       "\n",
       "    .dataframe tbody tr th {\n",
       "        vertical-align: top;\n",
       "    }\n",
       "\n",
       "    .dataframe thead th {\n",
       "        text-align: right;\n",
       "    }\n",
       "</style>\n",
       "<table border=\"1\" class=\"dataframe\">\n",
       "  <thead>\n",
       "    <tr style=\"text-align: right;\">\n",
       "      <th></th>\n",
       "      <th>Year</th>\n",
       "      <th>Age_Group</th>\n",
       "      <th>Gender</th>\n",
       "      <th>Smoking_Prevalence</th>\n",
       "      <th>Drug_Experimentation</th>\n",
       "      <th>Socioeconomic_Status</th>\n",
       "      <th>Peer_Influence</th>\n",
       "      <th>School_Programs</th>\n",
       "      <th>Family_Background</th>\n",
       "      <th>Mental_Health</th>\n",
       "      <th>Access_to_Counseling</th>\n",
       "      <th>Parental_Supervision</th>\n",
       "      <th>Substance_Education</th>\n",
       "      <th>Community_Support</th>\n",
       "      <th>Media_Influence</th>\n",
       "    </tr>\n",
       "  </thead>\n",
       "  <tbody>\n",
       "    <tr>\n",
       "      <th>0</th>\n",
       "      <td>2024</td>\n",
       "      <td>15-19</td>\n",
       "      <td>Both</td>\n",
       "      <td>18.85</td>\n",
       "      <td>32.40</td>\n",
       "      <td>High</td>\n",
       "      <td>5</td>\n",
       "      <td>Yes</td>\n",
       "      <td>1</td>\n",
       "      <td>5</td>\n",
       "      <td>No</td>\n",
       "      <td>4</td>\n",
       "      <td>No</td>\n",
       "      <td>3</td>\n",
       "      <td>1</td>\n",
       "    </tr>\n",
       "    <tr>\n",
       "      <th>1</th>\n",
       "      <td>2024</td>\n",
       "      <td>10-14</td>\n",
       "      <td>Female</td>\n",
       "      <td>34.88</td>\n",
       "      <td>41.57</td>\n",
       "      <td>High</td>\n",
       "      <td>6</td>\n",
       "      <td>Yes</td>\n",
       "      <td>10</td>\n",
       "      <td>5</td>\n",
       "      <td>No</td>\n",
       "      <td>9</td>\n",
       "      <td>Yes</td>\n",
       "      <td>9</td>\n",
       "      <td>3</td>\n",
       "    </tr>\n",
       "    <tr>\n",
       "      <th>2</th>\n",
       "      <td>2023</td>\n",
       "      <td>10-14</td>\n",
       "      <td>Both</td>\n",
       "      <td>42.00</td>\n",
       "      <td>56.80</td>\n",
       "      <td>High</td>\n",
       "      <td>6</td>\n",
       "      <td>Yes</td>\n",
       "      <td>2</td>\n",
       "      <td>7</td>\n",
       "      <td>Yes</td>\n",
       "      <td>2</td>\n",
       "      <td>No</td>\n",
       "      <td>5</td>\n",
       "      <td>1</td>\n",
       "    </tr>\n",
       "    <tr>\n",
       "      <th>3</th>\n",
       "      <td>2024</td>\n",
       "      <td>40-49</td>\n",
       "      <td>Both</td>\n",
       "      <td>33.75</td>\n",
       "      <td>42.90</td>\n",
       "      <td>Middle</td>\n",
       "      <td>10</td>\n",
       "      <td>No</td>\n",
       "      <td>9</td>\n",
       "      <td>7</td>\n",
       "      <td>Yes</td>\n",
       "      <td>2</td>\n",
       "      <td>No</td>\n",
       "      <td>10</td>\n",
       "      <td>9</td>\n",
       "    </tr>\n",
       "    <tr>\n",
       "      <th>4</th>\n",
       "      <td>2023</td>\n",
       "      <td>15-19</td>\n",
       "      <td>Male</td>\n",
       "      <td>47.90</td>\n",
       "      <td>39.62</td>\n",
       "      <td>High</td>\n",
       "      <td>1</td>\n",
       "      <td>No</td>\n",
       "      <td>2</td>\n",
       "      <td>4</td>\n",
       "      <td>Yes</td>\n",
       "      <td>4</td>\n",
       "      <td>No</td>\n",
       "      <td>10</td>\n",
       "      <td>3</td>\n",
       "    </tr>\n",
       "  </tbody>\n",
       "</table>\n",
       "</div>"
      ],
      "text/plain": [
       "   Year Age_Group  Gender  Smoking_Prevalence  Drug_Experimentation  \\\n",
       "0  2024     15-19    Both               18.85                 32.40   \n",
       "1  2024     10-14  Female               34.88                 41.57   \n",
       "2  2023     10-14    Both               42.00                 56.80   \n",
       "3  2024     40-49    Both               33.75                 42.90   \n",
       "4  2023     15-19    Male               47.90                 39.62   \n",
       "\n",
       "  Socioeconomic_Status  Peer_Influence School_Programs  Family_Background  \\\n",
       "0                 High               5             Yes                  1   \n",
       "1                 High               6             Yes                 10   \n",
       "2                 High               6             Yes                  2   \n",
       "3               Middle              10              No                  9   \n",
       "4                 High               1              No                  2   \n",
       "\n",
       "   Mental_Health Access_to_Counseling  Parental_Supervision  \\\n",
       "0              5                   No                     4   \n",
       "1              5                   No                     9   \n",
       "2              7                  Yes                     2   \n",
       "3              7                  Yes                     2   \n",
       "4              4                  Yes                     4   \n",
       "\n",
       "  Substance_Education  Community_Support  Media_Influence  \n",
       "0                  No                  3                1  \n",
       "1                 Yes                  9                3  \n",
       "2                  No                  5                1  \n",
       "3                  No                 10                9  \n",
       "4                  No                 10                3  "
      ]
     },
     "execution_count": 2,
     "metadata": {},
     "output_type": "execute_result"
    }
   ],
   "source": [
    "import pandas as pd \n",
    "\n",
    "df= pd.read_csv('dataset/youth_smoking_drug_data_10000_rows_expanded.csv')\n",
    "\n",
    "df.head()"
   ]
  },
  {
   "cell_type": "code",
   "execution_count": 3,
   "metadata": {},
   "outputs": [
    {
     "data": {
      "text/plain": [
       "Index(['Year', 'Age_Group', 'Gender', 'Smoking_Prevalence',\n",
       "       'Drug_Experimentation', 'Socioeconomic_Status', 'Peer_Influence',\n",
       "       'School_Programs', 'Family_Background', 'Mental_Health',\n",
       "       'Access_to_Counseling', 'Parental_Supervision', 'Substance_Education',\n",
       "       'Community_Support', 'Media_Influence'],\n",
       "      dtype='object')"
      ]
     },
     "execution_count": 3,
     "metadata": {},
     "output_type": "execute_result"
    }
   ],
   "source": [
    "df.columns"
   ]
  },
  {
   "cell_type": "code",
   "execution_count": 4,
   "metadata": {},
   "outputs": [
    {
     "name": "stdout",
     "output_type": "stream",
     "text": [
      "<class 'pandas.core.frame.DataFrame'>\n",
      "RangeIndex: 10000 entries, 0 to 9999\n",
      "Data columns (total 15 columns):\n",
      " #   Column                Non-Null Count  Dtype  \n",
      "---  ------                --------------  -----  \n",
      " 0   Year                  10000 non-null  int64  \n",
      " 1   Age_Group             10000 non-null  object \n",
      " 2   Gender                10000 non-null  object \n",
      " 3   Smoking_Prevalence    10000 non-null  float64\n",
      " 4   Drug_Experimentation  10000 non-null  float64\n",
      " 5   Socioeconomic_Status  10000 non-null  object \n",
      " 6   Peer_Influence        10000 non-null  int64  \n",
      " 7   School_Programs       10000 non-null  object \n",
      " 8   Family_Background     10000 non-null  int64  \n",
      " 9   Mental_Health         10000 non-null  int64  \n",
      " 10  Access_to_Counseling  10000 non-null  object \n",
      " 11  Parental_Supervision  10000 non-null  int64  \n",
      " 12  Substance_Education   10000 non-null  object \n",
      " 13  Community_Support     10000 non-null  int64  \n",
      " 14  Media_Influence       10000 non-null  int64  \n",
      "dtypes: float64(2), int64(7), object(6)\n",
      "memory usage: 1.1+ MB\n"
     ]
    }
   ],
   "source": [
    "df.info()"
   ]
  },
  {
   "cell_type": "code",
   "execution_count": 5,
   "metadata": {},
   "outputs": [
    {
     "data": {
      "text/plain": [
       "Year                    0\n",
       "Age_Group               0\n",
       "Gender                  0\n",
       "Smoking_Prevalence      0\n",
       "Drug_Experimentation    0\n",
       "Socioeconomic_Status    0\n",
       "Peer_Influence          0\n",
       "School_Programs         0\n",
       "Family_Background       0\n",
       "Mental_Health           0\n",
       "Access_to_Counseling    0\n",
       "Parental_Supervision    0\n",
       "Substance_Education     0\n",
       "Community_Support       0\n",
       "Media_Influence         0\n",
       "dtype: int64"
      ]
     },
     "execution_count": 5,
     "metadata": {},
     "output_type": "execute_result"
    }
   ],
   "source": [
    "df.isnull().sum()"
   ]
  },
  {
   "cell_type": "markdown",
   "metadata": {},
   "source": [
    "The dataset does not contain the null-values has 10,000 records"
   ]
  },
  {
   "cell_type": "code",
   "execution_count": 6,
   "metadata": {},
   "outputs": [
    {
     "name": "stdout",
     "output_type": "stream",
     "text": [
      "<class 'pandas.core.frame.DataFrame'>\n",
      "RangeIndex: 10000 entries, 0 to 9999\n",
      "Data columns (total 15 columns):\n",
      " #   Column                Non-Null Count  Dtype  \n",
      "---  ------                --------------  -----  \n",
      " 0   Year                  10000 non-null  int64  \n",
      " 1   Age_Group             10000 non-null  object \n",
      " 2   Gender                10000 non-null  object \n",
      " 3   Smoking_Prevalence    10000 non-null  float64\n",
      " 4   Drug_Experimentation  10000 non-null  float64\n",
      " 5   Socioeconomic_Status  10000 non-null  object \n",
      " 6   Peer_Influence        10000 non-null  int64  \n",
      " 7   School_Programs       10000 non-null  object \n",
      " 8   Family_Background     10000 non-null  int64  \n",
      " 9   Mental_Health         10000 non-null  int64  \n",
      " 10  Access_to_Counseling  10000 non-null  object \n",
      " 11  Parental_Supervision  10000 non-null  int64  \n",
      " 12  Substance_Education   10000 non-null  object \n",
      " 13  Community_Support     10000 non-null  int64  \n",
      " 14  Media_Influence       10000 non-null  int64  \n",
      "dtypes: float64(2), int64(7), object(6)\n",
      "memory usage: 1.1+ MB\n"
     ]
    }
   ],
   "source": [
    "df.info()"
   ]
  },
  {
   "cell_type": "markdown",
   "metadata": {},
   "source": [
    "***Categorical columns***"
   ]
  },
  {
   "cell_type": "code",
   "execution_count": 7,
   "metadata": {},
   "outputs": [
    {
     "name": "stdout",
     "output_type": "stream",
     "text": [
      "There are 6 categorical variables\n",
      "\n",
      "The categorical variables are: ['Age_Group', 'Gender', 'Socioeconomic_Status', 'School_Programs', 'Access_to_Counseling', 'Substance_Education']\n"
     ]
    }
   ],
   "source": [
    "categorical = [var for var in df.columns if df[var].dtype=='O'] \n",
    "print('There are {} categorical variables\\n'.format(len(categorical))) \n",
    "print('The categorical variables are:',categorical) "
   ]
  },
  {
   "cell_type": "markdown",
   "metadata": {},
   "source": [
    "***Converted the categorical columns to numerical values using one hot encoding to make effective model without any interruptions***"
   ]
  },
  {
   "cell_type": "code",
   "execution_count": 8,
   "metadata": {},
   "outputs": [
    {
     "data": {
      "text/html": [
       "<div>\n",
       "<style scoped>\n",
       "    .dataframe tbody tr th:only-of-type {\n",
       "        vertical-align: middle;\n",
       "    }\n",
       "\n",
       "    .dataframe tbody tr th {\n",
       "        vertical-align: top;\n",
       "    }\n",
       "\n",
       "    .dataframe thead th {\n",
       "        text-align: right;\n",
       "    }\n",
       "</style>\n",
       "<table border=\"1\" class=\"dataframe\">\n",
       "  <thead>\n",
       "    <tr style=\"text-align: right;\">\n",
       "      <th></th>\n",
       "      <th>Age_Group</th>\n",
       "      <th>Gender</th>\n",
       "      <th>Socioeconomic_Status</th>\n",
       "      <th>School_Programs</th>\n",
       "      <th>Access_to_Counseling</th>\n",
       "      <th>Substance_Education</th>\n",
       "    </tr>\n",
       "  </thead>\n",
       "  <tbody>\n",
       "    <tr>\n",
       "      <th>0</th>\n",
       "      <td>15-19</td>\n",
       "      <td>Both</td>\n",
       "      <td>High</td>\n",
       "      <td>Yes</td>\n",
       "      <td>No</td>\n",
       "      <td>No</td>\n",
       "    </tr>\n",
       "    <tr>\n",
       "      <th>1</th>\n",
       "      <td>10-14</td>\n",
       "      <td>Female</td>\n",
       "      <td>High</td>\n",
       "      <td>Yes</td>\n",
       "      <td>No</td>\n",
       "      <td>Yes</td>\n",
       "    </tr>\n",
       "    <tr>\n",
       "      <th>2</th>\n",
       "      <td>10-14</td>\n",
       "      <td>Both</td>\n",
       "      <td>High</td>\n",
       "      <td>Yes</td>\n",
       "      <td>Yes</td>\n",
       "      <td>No</td>\n",
       "    </tr>\n",
       "    <tr>\n",
       "      <th>3</th>\n",
       "      <td>40-49</td>\n",
       "      <td>Both</td>\n",
       "      <td>Middle</td>\n",
       "      <td>No</td>\n",
       "      <td>Yes</td>\n",
       "      <td>No</td>\n",
       "    </tr>\n",
       "    <tr>\n",
       "      <th>4</th>\n",
       "      <td>15-19</td>\n",
       "      <td>Male</td>\n",
       "      <td>High</td>\n",
       "      <td>No</td>\n",
       "      <td>Yes</td>\n",
       "      <td>No</td>\n",
       "    </tr>\n",
       "  </tbody>\n",
       "</table>\n",
       "</div>"
      ],
      "text/plain": [
       "  Age_Group  Gender Socioeconomic_Status School_Programs Access_to_Counseling  \\\n",
       "0     15-19    Both                 High             Yes                   No   \n",
       "1     10-14  Female                 High             Yes                   No   \n",
       "2     10-14    Both                 High             Yes                  Yes   \n",
       "3     40-49    Both               Middle              No                  Yes   \n",
       "4     15-19    Male                 High              No                  Yes   \n",
       "\n",
       "  Substance_Education  \n",
       "0                  No  \n",
       "1                 Yes  \n",
       "2                  No  \n",
       "3                  No  \n",
       "4                  No  "
      ]
     },
     "execution_count": 8,
     "metadata": {},
     "output_type": "execute_result"
    }
   ],
   "source": [
    "df[categorical].head()"
   ]
  },
  {
   "cell_type": "markdown",
   "metadata": {},
   "source": [
    "***checking for missing values in categorical variables***"
   ]
  },
  {
   "cell_type": "code",
   "execution_count": 9,
   "metadata": {},
   "outputs": [
    {
     "data": {
      "text/plain": [
       "Age_Group               0\n",
       "Gender                  0\n",
       "Socioeconomic_Status    0\n",
       "School_Programs         0\n",
       "Access_to_Counseling    0\n",
       "Substance_Education     0\n",
       "dtype: int64"
      ]
     },
     "execution_count": 9,
     "metadata": {},
     "output_type": "execute_result"
    }
   ],
   "source": [
    "df[categorical].isnull().sum()"
   ]
  },
  {
   "cell_type": "markdown",
   "metadata": {},
   "source": [
    "***viewing frequency of categorical variables***"
   ]
  },
  {
   "cell_type": "code",
   "execution_count": 10,
   "metadata": {},
   "outputs": [
    {
     "name": "stdout",
     "output_type": "stream",
     "text": [
      "Age_Group\n",
      "20-24    1045\n",
      "30-39    1021\n",
      "60-69    1020\n",
      "15-19    1014\n",
      "10-14    1007\n",
      "40-49    1001\n",
      "50-59    1001\n",
      "80+       979\n",
      "25-29     974\n",
      "70-79     938\n",
      "Name: count, dtype: int64\n",
      "Gender\n",
      "Both      3415\n",
      "Male      3294\n",
      "Female    3291\n",
      "Name: count, dtype: int64\n",
      "Socioeconomic_Status\n",
      "High      3364\n",
      "Middle    3344\n",
      "Low       3292\n",
      "Name: count, dtype: int64\n",
      "School_Programs\n",
      "No     5041\n",
      "Yes    4959\n",
      "Name: count, dtype: int64\n",
      "Access_to_Counseling\n",
      "No     5085\n",
      "Yes    4915\n",
      "Name: count, dtype: int64\n",
      "Substance_Education\n",
      "Yes    5011\n",
      "No     4989\n",
      "Name: count, dtype: int64\n"
     ]
    }
   ],
   "source": [
    "for var in categorical: \n",
    "    print(df[var].value_counts())"
   ]
  },
  {
   "cell_type": "markdown",
   "metadata": {},
   "source": [
    "**Age_Group**: Slight variation between groups, but no severe imbalance.\n",
    "\n",
    "**Gender**: Well-balanced distribution with slightly more individuals identifying as Both.\n",
    "\n",
    "**Socioeconomic_Status**: Even distribution across High, Middle, and Low categories.\n",
    "\n",
    "**School_Programs**: Nearly equal distribution between those with and without access. \n",
    "**Substance_Education**: Perfectly balanced."
   ]
  },
  {
   "cell_type": "code",
   "execution_count": 11,
   "metadata": {},
   "outputs": [
    {
     "name": "stdout",
     "output_type": "stream",
     "text": [
      "Age_Group contains 10 labels\n",
      "Gender contains 3 labels\n",
      "Socioeconomic_Status contains 3 labels\n",
      "School_Programs contains 2 labels\n",
      "Access_to_Counseling contains 2 labels\n",
      "Substance_Education contains 2 labels\n"
     ]
    }
   ],
   "source": [
    "#checking for cardinality in categorical values.\n",
    "for var in categorical: \n",
    "    print(var, 'contains' ,len(df[var].unique()), 'labels')"
   ]
  },
  {
   "cell_type": "markdown",
   "metadata": {},
   "source": [
    " Age group has a high cardinality with 10 labels while the rest of the features have a low cardinality with less than 5 labels"
   ]
  }
 ],
 "metadata": {
  "kernelspec": {
   "display_name": "base",
   "language": "python",
   "name": "python3"
  },
  "language_info": {
   "codemirror_mode": {
    "name": "ipython",
    "version": 3
   },
   "file_extension": ".py",
   "mimetype": "text/x-python",
   "name": "python",
   "nbconvert_exporter": "python",
   "pygments_lexer": "ipython3",
   "version": "3.11.7"
  }
 },
 "nbformat": 4,
 "nbformat_minor": 2
}
