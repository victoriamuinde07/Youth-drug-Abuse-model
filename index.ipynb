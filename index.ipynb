{
 "cells": [
  {
   "cell_type": "markdown",
   "metadata": {},
   "source": [
    "### Youth smoking drug data"
   ]
  },
  {
   "cell_type": "markdown",
   "metadata": {},
   "source": [
    "The dataset provides information about smoking and drug experiments trends from 2020-2024,with approximately 10,000 records.\n",
    "\n"
   ]
  },
  {
   "cell_type": "markdown",
   "metadata": {},
   "source": [
    "### The dataset features.\n",
    "1.**Year**: The year of data collection.\n",
    "\n",
    "2.**Age_Group**: Age range (e.g., 10-14, 15-19, etc.).\n",
    "\n",
    "3.**Gender**: Gender (e.g., Male, Female, Both).\n",
    "\n",
    "4.**Smoking_Prevalence**: Percentage of youth who smoke.\n",
    "\n",
    "5.**Drug_Experimentation**: Percentage of youth experimenting with drugs.\n",
    "\n",
    "6.**Socioeconomic_Status**: Categories like High, Middle.\n",
    "\n",
    "7.**Peer_Influence**: A numeric measure of peer pressure.\n",
    "\n",
    "8.**School_Programs**: Whether schools have anti-smoking/drug programs.\n",
    "\n",
    "9.**Family_Background**: A numeric measure of family influence.\n",
    "\n",
    "10.**Mental_Health**: A numeric rating of mental health.\n",
    "\n",
    "11.**Access_to_Counseling**: Whether counseling is available.\n",
    "\n",
    "12.**Parental_Supervision**: A numeric measure of parental involvement.\n",
    "\n",
    "13.**Substance_Education**: Whether they received substance education.\n",
    "\n",
    "14.**Community_Support**: A numeric rating of community support.\n",
    "\n",
    "15.**Media_Influence**: A numeric measure of media influence."
   ]
  },
  {
   "cell_type": "markdown",
   "metadata": {},
   "source": [
    "### Key objectives:"
   ]
  },
  {
   "cell_type": "markdown",
   "metadata": {},
   "source": [
    "The dataset aims to help researches,public health organizations,and policymakers understand the patterns and factors influencing substance use among youth.By identifying trends and influential factors,stakeholders can make data-driven decisions to combat substance abuse effectively."
   ]
  },
  {
   "cell_type": "code",
   "execution_count": 82,
   "metadata": {},
   "outputs": [
    {
     "data": {
      "text/html": [
       "<div>\n",
       "<style scoped>\n",
       "    .dataframe tbody tr th:only-of-type {\n",
       "        vertical-align: middle;\n",
       "    }\n",
       "\n",
       "    .dataframe tbody tr th {\n",
       "        vertical-align: top;\n",
       "    }\n",
       "\n",
       "    .dataframe thead th {\n",
       "        text-align: right;\n",
       "    }\n",
       "</style>\n",
       "<table border=\"1\" class=\"dataframe\">\n",
       "  <thead>\n",
       "    <tr style=\"text-align: right;\">\n",
       "      <th></th>\n",
       "      <th>Year</th>\n",
       "      <th>Age_Group</th>\n",
       "      <th>Gender</th>\n",
       "      <th>Smoking_Prevalence</th>\n",
       "      <th>Drug_Experimentation</th>\n",
       "      <th>Socioeconomic_Status</th>\n",
       "      <th>Peer_Influence</th>\n",
       "      <th>School_Programs</th>\n",
       "      <th>Family_Background</th>\n",
       "      <th>Mental_Health</th>\n",
       "      <th>Access_to_Counseling</th>\n",
       "      <th>Parental_Supervision</th>\n",
       "      <th>Substance_Education</th>\n",
       "      <th>Community_Support</th>\n",
       "      <th>Media_Influence</th>\n",
       "    </tr>\n",
       "  </thead>\n",
       "  <tbody>\n",
       "    <tr>\n",
       "      <th>0</th>\n",
       "      <td>2024</td>\n",
       "      <td>15-19</td>\n",
       "      <td>Both</td>\n",
       "      <td>18.85</td>\n",
       "      <td>32.40</td>\n",
       "      <td>High</td>\n",
       "      <td>5</td>\n",
       "      <td>Yes</td>\n",
       "      <td>1</td>\n",
       "      <td>5</td>\n",
       "      <td>No</td>\n",
       "      <td>4</td>\n",
       "      <td>No</td>\n",
       "      <td>3</td>\n",
       "      <td>1</td>\n",
       "    </tr>\n",
       "    <tr>\n",
       "      <th>1</th>\n",
       "      <td>2024</td>\n",
       "      <td>10-14</td>\n",
       "      <td>Female</td>\n",
       "      <td>34.88</td>\n",
       "      <td>41.57</td>\n",
       "      <td>High</td>\n",
       "      <td>6</td>\n",
       "      <td>Yes</td>\n",
       "      <td>10</td>\n",
       "      <td>5</td>\n",
       "      <td>No</td>\n",
       "      <td>9</td>\n",
       "      <td>Yes</td>\n",
       "      <td>9</td>\n",
       "      <td>3</td>\n",
       "    </tr>\n",
       "    <tr>\n",
       "      <th>2</th>\n",
       "      <td>2023</td>\n",
       "      <td>10-14</td>\n",
       "      <td>Both</td>\n",
       "      <td>42.00</td>\n",
       "      <td>56.80</td>\n",
       "      <td>High</td>\n",
       "      <td>6</td>\n",
       "      <td>Yes</td>\n",
       "      <td>2</td>\n",
       "      <td>7</td>\n",
       "      <td>Yes</td>\n",
       "      <td>2</td>\n",
       "      <td>No</td>\n",
       "      <td>5</td>\n",
       "      <td>1</td>\n",
       "    </tr>\n",
       "    <tr>\n",
       "      <th>3</th>\n",
       "      <td>2024</td>\n",
       "      <td>40-49</td>\n",
       "      <td>Both</td>\n",
       "      <td>33.75</td>\n",
       "      <td>42.90</td>\n",
       "      <td>Middle</td>\n",
       "      <td>10</td>\n",
       "      <td>No</td>\n",
       "      <td>9</td>\n",
       "      <td>7</td>\n",
       "      <td>Yes</td>\n",
       "      <td>2</td>\n",
       "      <td>No</td>\n",
       "      <td>10</td>\n",
       "      <td>9</td>\n",
       "    </tr>\n",
       "    <tr>\n",
       "      <th>4</th>\n",
       "      <td>2023</td>\n",
       "      <td>15-19</td>\n",
       "      <td>Male</td>\n",
       "      <td>47.90</td>\n",
       "      <td>39.62</td>\n",
       "      <td>High</td>\n",
       "      <td>1</td>\n",
       "      <td>No</td>\n",
       "      <td>2</td>\n",
       "      <td>4</td>\n",
       "      <td>Yes</td>\n",
       "      <td>4</td>\n",
       "      <td>No</td>\n",
       "      <td>10</td>\n",
       "      <td>3</td>\n",
       "    </tr>\n",
       "  </tbody>\n",
       "</table>\n",
       "</div>"
      ],
      "text/plain": [
       "   Year Age_Group  Gender  Smoking_Prevalence  Drug_Experimentation  \\\n",
       "0  2024     15-19    Both               18.85                 32.40   \n",
       "1  2024     10-14  Female               34.88                 41.57   \n",
       "2  2023     10-14    Both               42.00                 56.80   \n",
       "3  2024     40-49    Both               33.75                 42.90   \n",
       "4  2023     15-19    Male               47.90                 39.62   \n",
       "\n",
       "  Socioeconomic_Status  Peer_Influence School_Programs  Family_Background  \\\n",
       "0                 High               5             Yes                  1   \n",
       "1                 High               6             Yes                 10   \n",
       "2                 High               6             Yes                  2   \n",
       "3               Middle              10              No                  9   \n",
       "4                 High               1              No                  2   \n",
       "\n",
       "   Mental_Health Access_to_Counseling  Parental_Supervision  \\\n",
       "0              5                   No                     4   \n",
       "1              5                   No                     9   \n",
       "2              7                  Yes                     2   \n",
       "3              7                  Yes                     2   \n",
       "4              4                  Yes                     4   \n",
       "\n",
       "  Substance_Education  Community_Support  Media_Influence  \n",
       "0                  No                  3                1  \n",
       "1                 Yes                  9                3  \n",
       "2                  No                  5                1  \n",
       "3                  No                 10                9  \n",
       "4                  No                 10                3  "
      ]
     },
     "execution_count": 82,
     "metadata": {},
     "output_type": "execute_result"
    }
   ],
   "source": [
    "import pandas as pd \n",
    "\n",
    "df= pd.read_csv('dataset/youth_smoking_drug_data_10000_rows_expanded.csv')\n",
    "\n",
    "df.head()"
   ]
  },
  {
   "cell_type": "code",
   "execution_count": 83,
   "metadata": {},
   "outputs": [
    {
     "data": {
      "text/plain": [
       "Index(['Year', 'Age_Group', 'Gender', 'Smoking_Prevalence',\n",
       "       'Drug_Experimentation', 'Socioeconomic_Status', 'Peer_Influence',\n",
       "       'School_Programs', 'Family_Background', 'Mental_Health',\n",
       "       'Access_to_Counseling', 'Parental_Supervision', 'Substance_Education',\n",
       "       'Community_Support', 'Media_Influence'],\n",
       "      dtype='object')"
      ]
     },
     "execution_count": 83,
     "metadata": {},
     "output_type": "execute_result"
    }
   ],
   "source": [
    "df.columns"
   ]
  },
  {
   "cell_type": "code",
   "execution_count": 84,
   "metadata": {},
   "outputs": [
    {
     "name": "stdout",
     "output_type": "stream",
     "text": [
      "<class 'pandas.core.frame.DataFrame'>\n",
      "RangeIndex: 10000 entries, 0 to 9999\n",
      "Data columns (total 15 columns):\n",
      " #   Column                Non-Null Count  Dtype  \n",
      "---  ------                --------------  -----  \n",
      " 0   Year                  10000 non-null  int64  \n",
      " 1   Age_Group             10000 non-null  object \n",
      " 2   Gender                10000 non-null  object \n",
      " 3   Smoking_Prevalence    10000 non-null  float64\n",
      " 4   Drug_Experimentation  10000 non-null  float64\n",
      " 5   Socioeconomic_Status  10000 non-null  object \n",
      " 6   Peer_Influence        10000 non-null  int64  \n",
      " 7   School_Programs       10000 non-null  object \n",
      " 8   Family_Background     10000 non-null  int64  \n",
      " 9   Mental_Health         10000 non-null  int64  \n",
      " 10  Access_to_Counseling  10000 non-null  object \n",
      " 11  Parental_Supervision  10000 non-null  int64  \n",
      " 12  Substance_Education   10000 non-null  object \n",
      " 13  Community_Support     10000 non-null  int64  \n",
      " 14  Media_Influence       10000 non-null  int64  \n",
      "dtypes: float64(2), int64(7), object(6)\n",
      "memory usage: 1.1+ MB\n"
     ]
    }
   ],
   "source": [
    "df.info()"
   ]
  },
  {
   "cell_type": "code",
   "execution_count": 85,
   "metadata": {},
   "outputs": [
    {
     "data": {
      "text/plain": [
       "Year                    0\n",
       "Age_Group               0\n",
       "Gender                  0\n",
       "Smoking_Prevalence      0\n",
       "Drug_Experimentation    0\n",
       "Socioeconomic_Status    0\n",
       "Peer_Influence          0\n",
       "School_Programs         0\n",
       "Family_Background       0\n",
       "Mental_Health           0\n",
       "Access_to_Counseling    0\n",
       "Parental_Supervision    0\n",
       "Substance_Education     0\n",
       "Community_Support       0\n",
       "Media_Influence         0\n",
       "dtype: int64"
      ]
     },
     "execution_count": 85,
     "metadata": {},
     "output_type": "execute_result"
    }
   ],
   "source": [
    "df.isnull().sum()"
   ]
  },
  {
   "cell_type": "markdown",
   "metadata": {},
   "source": [
    "The dataset does not contain the null-values has 10,000 records"
   ]
  },
  {
   "cell_type": "code",
   "execution_count": 86,
   "metadata": {},
   "outputs": [
    {
     "name": "stdout",
     "output_type": "stream",
     "text": [
      "<class 'pandas.core.frame.DataFrame'>\n",
      "RangeIndex: 10000 entries, 0 to 9999\n",
      "Data columns (total 15 columns):\n",
      " #   Column                Non-Null Count  Dtype  \n",
      "---  ------                --------------  -----  \n",
      " 0   Year                  10000 non-null  int64  \n",
      " 1   Age_Group             10000 non-null  object \n",
      " 2   Gender                10000 non-null  object \n",
      " 3   Smoking_Prevalence    10000 non-null  float64\n",
      " 4   Drug_Experimentation  10000 non-null  float64\n",
      " 5   Socioeconomic_Status  10000 non-null  object \n",
      " 6   Peer_Influence        10000 non-null  int64  \n",
      " 7   School_Programs       10000 non-null  object \n",
      " 8   Family_Background     10000 non-null  int64  \n",
      " 9   Mental_Health         10000 non-null  int64  \n",
      " 10  Access_to_Counseling  10000 non-null  object \n",
      " 11  Parental_Supervision  10000 non-null  int64  \n",
      " 12  Substance_Education   10000 non-null  object \n",
      " 13  Community_Support     10000 non-null  int64  \n",
      " 14  Media_Influence       10000 non-null  int64  \n",
      "dtypes: float64(2), int64(7), object(6)\n",
      "memory usage: 1.1+ MB\n"
     ]
    }
   ],
   "source": [
    "df.info()"
   ]
  },
  {
   "cell_type": "markdown",
   "metadata": {},
   "source": [
    "***Categorical columns***"
   ]
  },
  {
   "cell_type": "code",
   "execution_count": 87,
   "metadata": {},
   "outputs": [],
   "source": [
    "categorical = ['Age_Group', 'Gender', 'Socioeconomic_Status', 'School_Programs', 'Access_to_Counseling', 'Substance_Education']"
   ]
  },
  {
   "cell_type": "code",
   "execution_count": 88,
   "metadata": {},
   "outputs": [
    {
     "name": "stdout",
     "output_type": "stream",
     "text": [
      "There are 6 categorical variables\n",
      "\n",
      "The categorical variables are: ['Age_Group', 'Gender', 'Socioeconomic_Status', 'School_Programs', 'Access_to_Counseling', 'Substance_Education']\n"
     ]
    }
   ],
   "source": [
    "categorical = [var for var in df.columns if df[var].dtype=='O'] \n",
    "print('There are {} categorical variables\\n'.format(len(categorical))) \n",
    "print('The categorical variables are:',categorical) "
   ]
  },
  {
   "cell_type": "markdown",
   "metadata": {},
   "source": [
    "***Converted the categorical columns to numerical values using one hot encoding to make effective model without any interruptions***"
   ]
  },
  {
   "cell_type": "code",
   "execution_count": 89,
   "metadata": {},
   "outputs": [
    {
     "data": {
      "text/html": [
       "<div>\n",
       "<style scoped>\n",
       "    .dataframe tbody tr th:only-of-type {\n",
       "        vertical-align: middle;\n",
       "    }\n",
       "\n",
       "    .dataframe tbody tr th {\n",
       "        vertical-align: top;\n",
       "    }\n",
       "\n",
       "    .dataframe thead th {\n",
       "        text-align: right;\n",
       "    }\n",
       "</style>\n",
       "<table border=\"1\" class=\"dataframe\">\n",
       "  <thead>\n",
       "    <tr style=\"text-align: right;\">\n",
       "      <th></th>\n",
       "      <th>Age_Group</th>\n",
       "      <th>Gender</th>\n",
       "      <th>Socioeconomic_Status</th>\n",
       "      <th>School_Programs</th>\n",
       "      <th>Access_to_Counseling</th>\n",
       "      <th>Substance_Education</th>\n",
       "    </tr>\n",
       "  </thead>\n",
       "  <tbody>\n",
       "    <tr>\n",
       "      <th>0</th>\n",
       "      <td>15-19</td>\n",
       "      <td>Both</td>\n",
       "      <td>High</td>\n",
       "      <td>Yes</td>\n",
       "      <td>No</td>\n",
       "      <td>No</td>\n",
       "    </tr>\n",
       "    <tr>\n",
       "      <th>1</th>\n",
       "      <td>10-14</td>\n",
       "      <td>Female</td>\n",
       "      <td>High</td>\n",
       "      <td>Yes</td>\n",
       "      <td>No</td>\n",
       "      <td>Yes</td>\n",
       "    </tr>\n",
       "    <tr>\n",
       "      <th>2</th>\n",
       "      <td>10-14</td>\n",
       "      <td>Both</td>\n",
       "      <td>High</td>\n",
       "      <td>Yes</td>\n",
       "      <td>Yes</td>\n",
       "      <td>No</td>\n",
       "    </tr>\n",
       "    <tr>\n",
       "      <th>3</th>\n",
       "      <td>40-49</td>\n",
       "      <td>Both</td>\n",
       "      <td>Middle</td>\n",
       "      <td>No</td>\n",
       "      <td>Yes</td>\n",
       "      <td>No</td>\n",
       "    </tr>\n",
       "    <tr>\n",
       "      <th>4</th>\n",
       "      <td>15-19</td>\n",
       "      <td>Male</td>\n",
       "      <td>High</td>\n",
       "      <td>No</td>\n",
       "      <td>Yes</td>\n",
       "      <td>No</td>\n",
       "    </tr>\n",
       "  </tbody>\n",
       "</table>\n",
       "</div>"
      ],
      "text/plain": [
       "  Age_Group  Gender Socioeconomic_Status School_Programs Access_to_Counseling  \\\n",
       "0     15-19    Both                 High             Yes                   No   \n",
       "1     10-14  Female                 High             Yes                   No   \n",
       "2     10-14    Both                 High             Yes                  Yes   \n",
       "3     40-49    Both               Middle              No                  Yes   \n",
       "4     15-19    Male                 High              No                  Yes   \n",
       "\n",
       "  Substance_Education  \n",
       "0                  No  \n",
       "1                 Yes  \n",
       "2                  No  \n",
       "3                  No  \n",
       "4                  No  "
      ]
     },
     "execution_count": 89,
     "metadata": {},
     "output_type": "execute_result"
    }
   ],
   "source": [
    "df[categorical].head()"
   ]
  },
  {
   "cell_type": "markdown",
   "metadata": {},
   "source": [
    "***checking for missing values in categorical variables***"
   ]
  },
  {
   "cell_type": "code",
   "execution_count": 90,
   "metadata": {},
   "outputs": [
    {
     "data": {
      "text/plain": [
       "Age_Group               0\n",
       "Gender                  0\n",
       "Socioeconomic_Status    0\n",
       "School_Programs         0\n",
       "Access_to_Counseling    0\n",
       "Substance_Education     0\n",
       "dtype: int64"
      ]
     },
     "execution_count": 90,
     "metadata": {},
     "output_type": "execute_result"
    }
   ],
   "source": [
    "df[categorical].isnull().sum()"
   ]
  },
  {
   "cell_type": "markdown",
   "metadata": {},
   "source": [
    "***viewing frequency of categorical variables***"
   ]
  },
  {
   "cell_type": "code",
   "execution_count": 91,
   "metadata": {},
   "outputs": [
    {
     "name": "stdout",
     "output_type": "stream",
     "text": [
      "Age_Group\n",
      "20-24    1045\n",
      "30-39    1021\n",
      "60-69    1020\n",
      "15-19    1014\n",
      "10-14    1007\n",
      "40-49    1001\n",
      "50-59    1001\n",
      "80+       979\n",
      "25-29     974\n",
      "70-79     938\n",
      "Name: count, dtype: int64\n",
      "Gender\n",
      "Both      3415\n",
      "Male      3294\n",
      "Female    3291\n",
      "Name: count, dtype: int64\n",
      "Socioeconomic_Status\n",
      "High      3364\n",
      "Middle    3344\n",
      "Low       3292\n",
      "Name: count, dtype: int64\n",
      "School_Programs\n",
      "No     5041\n",
      "Yes    4959\n",
      "Name: count, dtype: int64\n",
      "Access_to_Counseling\n",
      "No     5085\n",
      "Yes    4915\n",
      "Name: count, dtype: int64\n",
      "Substance_Education\n",
      "Yes    5011\n",
      "No     4989\n",
      "Name: count, dtype: int64\n"
     ]
    }
   ],
   "source": [
    "for var in categorical: \n",
    "    print(df[var].value_counts())"
   ]
  },
  {
   "cell_type": "markdown",
   "metadata": {},
   "source": [
    "**Age_Group**: Slight variation between groups, but no severe imbalance.\n",
    "\n",
    "**Gender**: Well-balanced distribution with slightly more individuals identifying as Both.\n",
    "\n",
    "**Socioeconomic_Status**: Even distribution across High, Middle, and Low categories.\n",
    "\n",
    "**School_Programs**: Nearly equal distribution between those with and without access. \n",
    "**Substance_Education**: Perfectly balanced."
   ]
  },
  {
   "cell_type": "code",
   "execution_count": 92,
   "metadata": {},
   "outputs": [
    {
     "name": "stdout",
     "output_type": "stream",
     "text": [
      "Age_Group contains 10 labels\n",
      "Gender contains 3 labels\n",
      "Socioeconomic_Status contains 3 labels\n",
      "School_Programs contains 2 labels\n",
      "Access_to_Counseling contains 2 labels\n",
      "Substance_Education contains 2 labels\n"
     ]
    }
   ],
   "source": [
    "#checking for cardinality in categorical values.\n",
    "for var in categorical: \n",
    "    print(var, 'contains' ,len(df[var].unique()), 'labels')"
   ]
  },
  {
   "cell_type": "markdown",
   "metadata": {},
   "source": [
    " Age group has a moderate cardinality with 10 labels which may not be useful for the model , could raise issues when performing one hot encoding.\n",
    "\n",
    " Gender and Socioeconomic_Status contains 3 labels showing low cardinality that when one hot encoding is performed it wont be much affected.\n",
    " \n",
    " School_Programs,Access_to_Counselling,Substance_Education contains 2 labels indicating low cardinality this would be suitable when performing one hot encoding"
   ]
  },
  {
   "cell_type": "markdown",
   "metadata": {},
   "source": [
    "### Feature Engineering"
   ]
  },
  {
   "cell_type": "markdown",
   "metadata": {},
   "source": [
    "### Explore Age_group Variable"
   ]
  },
  {
   "cell_type": "code",
   "execution_count": 93,
   "metadata": {},
   "outputs": [
    {
     "name": "stdout",
     "output_type": "stream",
     "text": [
      "Age group contains 10 label\n"
     ]
    }
   ],
   "source": [
    "print('Age group contains' , len(df['Age_Group'].unique()),'label')"
   ]
  },
  {
   "cell_type": "code",
   "execution_count": 94,
   "metadata": {},
   "outputs": [
    {
     "data": {
      "text/plain": [
       "array(['15-19', '10-14', '40-49', '70-79', '30-39', '60-69', '50-59',\n",
       "       '25-29', '80+', '20-24'], dtype=object)"
      ]
     },
     "execution_count": 94,
     "metadata": {},
     "output_type": "execute_result"
    }
   ],
   "source": [
    "df['Age_Group'].unique()"
   ]
  },
  {
   "cell_type": "code",
   "execution_count": 95,
   "metadata": {},
   "outputs": [
    {
     "data": {
      "text/plain": [
       "Age_Group\n",
       "20-24    1045\n",
       "30-39    1021\n",
       "60-69    1020\n",
       "15-19    1014\n",
       "10-14    1007\n",
       "40-49    1001\n",
       "50-59    1001\n",
       "80+       979\n",
       "25-29     974\n",
       "70-79     938\n",
       "Name: count, dtype: int64"
      ]
     },
     "execution_count": 95,
     "metadata": {},
     "output_type": "execute_result"
    }
   ],
   "source": [
    "# checking for frequency distribution of values in Age_Group variable \n",
    "df['Age_Group'].value_counts()"
   ]
  },
  {
   "cell_type": "markdown",
   "metadata": {},
   "source": [
    "The counts for each age group are relatively close, ranging from 938 to 1045. This indicates that your dataset has a fairly balanced representation of different age groups, with no age group dominating the dataset. The largest group (20-24) has 1,045 entries, and the smallest group (70-79) has 938 entries, a difference of about 107, which is not significant considering the total size."
   ]
  },
  {
   "cell_type": "markdown",
   "metadata": {},
   "source": [
    "Exploring Gender variable\n"
   ]
  },
  {
   "cell_type": "code",
   "execution_count": 96,
   "metadata": {},
   "outputs": [
    {
     "name": "stdout",
     "output_type": "stream",
     "text": [
      "Gender 3 label\n"
     ]
    }
   ],
   "source": [
    "print('Gender',len(df['Gender'].unique()),'label')"
   ]
  },
  {
   "cell_type": "code",
   "execution_count": 97,
   "metadata": {},
   "outputs": [
    {
     "data": {
      "text/plain": [
       "Gender\n",
       "Both      3415\n",
       "Male      3294\n",
       "Female    3291\n",
       "Name: count, dtype: int64"
      ]
     },
     "execution_count": 97,
     "metadata": {},
     "output_type": "execute_result"
    }
   ],
   "source": [
    "df['Gender'].value_counts()"
   ]
  },
  {
   "cell_type": "markdown",
   "metadata": {},
   "source": [
    "The Male and Female groups have nearly identical counts, with 3,294 males and 3,291 females, indicating a balanced gender distribution in the dataset."
   ]
  },
  {
   "cell_type": "code",
   "execution_count": 98,
   "metadata": {},
   "outputs": [
    {
     "data": {
      "text/html": [
       "<div>\n",
       "<style scoped>\n",
       "    .dataframe tbody tr th:only-of-type {\n",
       "        vertical-align: middle;\n",
       "    }\n",
       "\n",
       "    .dataframe tbody tr th {\n",
       "        vertical-align: top;\n",
       "    }\n",
       "\n",
       "    .dataframe thead th {\n",
       "        text-align: right;\n",
       "    }\n",
       "</style>\n",
       "<table border=\"1\" class=\"dataframe\">\n",
       "  <thead>\n",
       "    <tr style=\"text-align: right;\">\n",
       "      <th></th>\n",
       "      <th>Both</th>\n",
       "      <th>Female</th>\n",
       "      <th>Male</th>\n",
       "    </tr>\n",
       "  </thead>\n",
       "  <tbody>\n",
       "    <tr>\n",
       "      <th>0</th>\n",
       "      <td>1</td>\n",
       "      <td>0</td>\n",
       "      <td>0</td>\n",
       "    </tr>\n",
       "    <tr>\n",
       "      <th>1</th>\n",
       "      <td>0</td>\n",
       "      <td>1</td>\n",
       "      <td>0</td>\n",
       "    </tr>\n",
       "    <tr>\n",
       "      <th>2</th>\n",
       "      <td>1</td>\n",
       "      <td>0</td>\n",
       "      <td>0</td>\n",
       "    </tr>\n",
       "    <tr>\n",
       "      <th>3</th>\n",
       "      <td>1</td>\n",
       "      <td>0</td>\n",
       "      <td>0</td>\n",
       "    </tr>\n",
       "    <tr>\n",
       "      <th>4</th>\n",
       "      <td>0</td>\n",
       "      <td>0</td>\n",
       "      <td>1</td>\n",
       "    </tr>\n",
       "  </tbody>\n",
       "</table>\n",
       "</div>"
      ],
      "text/plain": [
       "   Both  Female  Male\n",
       "0     1       0     0\n",
       "1     0       1     0\n",
       "2     1       0     0\n",
       "3     1       0     0\n",
       "4     0       0     1"
      ]
     },
     "execution_count": 98,
     "metadata": {},
     "output_type": "execute_result"
    }
   ],
   "source": [
    "pd.get_dummies(df['Gender'], drop_first=False, dtype='int').head()"
   ]
  },
  {
   "cell_type": "markdown",
   "metadata": {},
   "source": [
    "Exploring Socioeconomic_Status Variable"
   ]
  },
  {
   "cell_type": "code",
   "execution_count": 99,
   "metadata": {},
   "outputs": [
    {
     "name": "stdout",
     "output_type": "stream",
     "text": [
      "Socioeconomic_Status 3 label\n"
     ]
    }
   ],
   "source": [
    "print('Socioeconomic_Status',len(df['Socioeconomic_Status'].unique()),'label')"
   ]
  },
  {
   "cell_type": "code",
   "execution_count": 100,
   "metadata": {},
   "outputs": [
    {
     "data": {
      "text/plain": [
       "Socioeconomic_Status\n",
       "High      3364\n",
       "Middle    3344\n",
       "Low       3292\n",
       "Name: count, dtype: int64"
      ]
     },
     "execution_count": 100,
     "metadata": {},
     "output_type": "execute_result"
    }
   ],
   "source": [
    "df['Socioeconomic_Status'].value_counts()"
   ]
  },
  {
   "cell_type": "markdown",
   "metadata": {},
   "source": [
    "Balanced Distribution: The three categories—High (3,364), Middle (3,344), and Low (3,292)—are very close in count, suggesting a balanced representation of different socioeconomic statuses. The differences between them are minimal, with a gap of just 72 entries between the largest (High) and the smallest (Low) categories.\n",
    "\n",
    "Equitable Coverage: Since all socioeconomic groups are similarly represented, the data should provide a fairly unbiased look at how different socioeconomic statuses impact outcomes such as smoking prevalence or drug experimentation."
   ]
  },
  {
   "cell_type": "markdown",
   "metadata": {},
   "source": [
    "Exploring School_Programs"
   ]
  },
  {
   "cell_type": "code",
   "execution_count": 101,
   "metadata": {},
   "outputs": [
    {
     "name": "stdout",
     "output_type": "stream",
     "text": [
      "School_Programs 2 label\n"
     ]
    }
   ],
   "source": [
    "print('School_Programs',len (df['School_Programs'].unique()),'label')"
   ]
  },
  {
   "cell_type": "code",
   "execution_count": 102,
   "metadata": {},
   "outputs": [
    {
     "data": {
      "text/plain": [
       "School_Programs\n",
       "No     5041\n",
       "Yes    4959\n",
       "Name: count, dtype: int64"
      ]
     },
     "execution_count": 102,
     "metadata": {},
     "output_type": "execute_result"
    }
   ],
   "source": [
    "df['School_Programs'].value_counts()"
   ]
  },
  {
   "cell_type": "code",
   "execution_count": 103,
   "metadata": {},
   "outputs": [
    {
     "name": "stdout",
     "output_type": "stream",
     "text": [
      "Access_to_Counseling 2 label\n"
     ]
    }
   ],
   "source": [
    "print('Access_to_Counseling', len(df['Access_to_Counseling'].unique()),'label')"
   ]
  },
  {
   "cell_type": "code",
   "execution_count": 104,
   "metadata": {},
   "outputs": [
    {
     "data": {
      "text/plain": [
       "Access_to_Counseling\n",
       "No     5085\n",
       "Yes    4915\n",
       "Name: count, dtype: int64"
      ]
     },
     "execution_count": 104,
     "metadata": {},
     "output_type": "execute_result"
    }
   ],
   "source": [
    "df['Access_to_Counseling'].value_counts()"
   ]
  },
  {
   "cell_type": "code",
   "execution_count": 105,
   "metadata": {},
   "outputs": [
    {
     "name": "stdout",
     "output_type": "stream",
     "text": [
      "Substance_Education 2 label\n"
     ]
    }
   ],
   "source": [
    "print('Substance_Education',len(df['Substance_Education'].unique()),'label')"
   ]
  },
  {
   "cell_type": "code",
   "execution_count": 106,
   "metadata": {},
   "outputs": [
    {
     "data": {
      "text/plain": [
       "Substance_Education\n",
       "Yes    5011\n",
       "No     4989\n",
       "Name: count, dtype: int64"
      ]
     },
     "execution_count": 106,
     "metadata": {},
     "output_type": "execute_result"
    }
   ],
   "source": [
    "df['Substance_Education'].value_counts()"
   ]
  },
  {
   "cell_type": "code",
   "execution_count": 107,
   "metadata": {},
   "outputs": [
    {
     "name": "stdout",
     "output_type": "stream",
     "text": [
      "<class 'pandas.core.frame.DataFrame'>\n",
      "RangeIndex: 10000 entries, 0 to 9999\n",
      "Data columns (total 15 columns):\n",
      " #   Column                Non-Null Count  Dtype  \n",
      "---  ------                --------------  -----  \n",
      " 0   Year                  10000 non-null  int64  \n",
      " 1   Age_Group             10000 non-null  object \n",
      " 2   Gender                10000 non-null  object \n",
      " 3   Smoking_Prevalence    10000 non-null  float64\n",
      " 4   Drug_Experimentation  10000 non-null  float64\n",
      " 5   Socioeconomic_Status  10000 non-null  object \n",
      " 6   Peer_Influence        10000 non-null  int64  \n",
      " 7   School_Programs       10000 non-null  object \n",
      " 8   Family_Background     10000 non-null  int64  \n",
      " 9   Mental_Health         10000 non-null  int64  \n",
      " 10  Access_to_Counseling  10000 non-null  object \n",
      " 11  Parental_Supervision  10000 non-null  int64  \n",
      " 12  Substance_Education   10000 non-null  object \n",
      " 13  Community_Support     10000 non-null  int64  \n",
      " 14  Media_Influence       10000 non-null  int64  \n",
      "dtypes: float64(2), int64(7), object(6)\n",
      "memory usage: 1.1+ MB\n"
     ]
    }
   ],
   "source": [
    "df.info()"
   ]
  },
  {
   "cell_type": "code",
   "execution_count": 108,
   "metadata": {},
   "outputs": [
    {
     "data": {
      "text/html": [
       "<div>\n",
       "<style scoped>\n",
       "    .dataframe tbody tr th:only-of-type {\n",
       "        vertical-align: middle;\n",
       "    }\n",
       "\n",
       "    .dataframe tbody tr th {\n",
       "        vertical-align: top;\n",
       "    }\n",
       "\n",
       "    .dataframe thead th {\n",
       "        text-align: right;\n",
       "    }\n",
       "</style>\n",
       "<table border=\"1\" class=\"dataframe\">\n",
       "  <thead>\n",
       "    <tr style=\"text-align: right;\">\n",
       "      <th></th>\n",
       "      <th>Year</th>\n",
       "      <th>Smoking_Prevalence</th>\n",
       "      <th>Drug_Experimentation</th>\n",
       "      <th>Peer_Influence</th>\n",
       "      <th>Family_Background</th>\n",
       "      <th>Mental_Health</th>\n",
       "      <th>Parental_Supervision</th>\n",
       "      <th>Community_Support</th>\n",
       "      <th>Media_Influence</th>\n",
       "      <th>Age_Group_10-14</th>\n",
       "      <th>...</th>\n",
       "      <th>Gender_Male</th>\n",
       "      <th>Socioeconomic_Status_High</th>\n",
       "      <th>Socioeconomic_Status_Low</th>\n",
       "      <th>Socioeconomic_Status_Middle</th>\n",
       "      <th>School_Programs_No</th>\n",
       "      <th>School_Programs_Yes</th>\n",
       "      <th>Access_to_Counseling_No</th>\n",
       "      <th>Access_to_Counseling_Yes</th>\n",
       "      <th>Substance_Education_No</th>\n",
       "      <th>Substance_Education_Yes</th>\n",
       "    </tr>\n",
       "  </thead>\n",
       "  <tbody>\n",
       "    <tr>\n",
       "      <th>0</th>\n",
       "      <td>2024</td>\n",
       "      <td>18.85</td>\n",
       "      <td>32.40</td>\n",
       "      <td>5</td>\n",
       "      <td>1</td>\n",
       "      <td>5</td>\n",
       "      <td>4</td>\n",
       "      <td>3</td>\n",
       "      <td>1</td>\n",
       "      <td>False</td>\n",
       "      <td>...</td>\n",
       "      <td>False</td>\n",
       "      <td>True</td>\n",
       "      <td>False</td>\n",
       "      <td>False</td>\n",
       "      <td>False</td>\n",
       "      <td>True</td>\n",
       "      <td>True</td>\n",
       "      <td>False</td>\n",
       "      <td>True</td>\n",
       "      <td>False</td>\n",
       "    </tr>\n",
       "    <tr>\n",
       "      <th>1</th>\n",
       "      <td>2024</td>\n",
       "      <td>34.88</td>\n",
       "      <td>41.57</td>\n",
       "      <td>6</td>\n",
       "      <td>10</td>\n",
       "      <td>5</td>\n",
       "      <td>9</td>\n",
       "      <td>9</td>\n",
       "      <td>3</td>\n",
       "      <td>True</td>\n",
       "      <td>...</td>\n",
       "      <td>False</td>\n",
       "      <td>True</td>\n",
       "      <td>False</td>\n",
       "      <td>False</td>\n",
       "      <td>False</td>\n",
       "      <td>True</td>\n",
       "      <td>True</td>\n",
       "      <td>False</td>\n",
       "      <td>False</td>\n",
       "      <td>True</td>\n",
       "    </tr>\n",
       "    <tr>\n",
       "      <th>2</th>\n",
       "      <td>2023</td>\n",
       "      <td>42.00</td>\n",
       "      <td>56.80</td>\n",
       "      <td>6</td>\n",
       "      <td>2</td>\n",
       "      <td>7</td>\n",
       "      <td>2</td>\n",
       "      <td>5</td>\n",
       "      <td>1</td>\n",
       "      <td>True</td>\n",
       "      <td>...</td>\n",
       "      <td>False</td>\n",
       "      <td>True</td>\n",
       "      <td>False</td>\n",
       "      <td>False</td>\n",
       "      <td>False</td>\n",
       "      <td>True</td>\n",
       "      <td>False</td>\n",
       "      <td>True</td>\n",
       "      <td>True</td>\n",
       "      <td>False</td>\n",
       "    </tr>\n",
       "    <tr>\n",
       "      <th>3</th>\n",
       "      <td>2024</td>\n",
       "      <td>33.75</td>\n",
       "      <td>42.90</td>\n",
       "      <td>10</td>\n",
       "      <td>9</td>\n",
       "      <td>7</td>\n",
       "      <td>2</td>\n",
       "      <td>10</td>\n",
       "      <td>9</td>\n",
       "      <td>False</td>\n",
       "      <td>...</td>\n",
       "      <td>False</td>\n",
       "      <td>False</td>\n",
       "      <td>False</td>\n",
       "      <td>True</td>\n",
       "      <td>True</td>\n",
       "      <td>False</td>\n",
       "      <td>False</td>\n",
       "      <td>True</td>\n",
       "      <td>True</td>\n",
       "      <td>False</td>\n",
       "    </tr>\n",
       "    <tr>\n",
       "      <th>4</th>\n",
       "      <td>2023</td>\n",
       "      <td>47.90</td>\n",
       "      <td>39.62</td>\n",
       "      <td>1</td>\n",
       "      <td>2</td>\n",
       "      <td>4</td>\n",
       "      <td>4</td>\n",
       "      <td>10</td>\n",
       "      <td>3</td>\n",
       "      <td>False</td>\n",
       "      <td>...</td>\n",
       "      <td>True</td>\n",
       "      <td>True</td>\n",
       "      <td>False</td>\n",
       "      <td>False</td>\n",
       "      <td>True</td>\n",
       "      <td>False</td>\n",
       "      <td>False</td>\n",
       "      <td>True</td>\n",
       "      <td>True</td>\n",
       "      <td>False</td>\n",
       "    </tr>\n",
       "  </tbody>\n",
       "</table>\n",
       "<p>5 rows × 31 columns</p>\n",
       "</div>"
      ],
      "text/plain": [
       "   Year  Smoking_Prevalence  Drug_Experimentation  Peer_Influence  \\\n",
       "0  2024               18.85                 32.40               5   \n",
       "1  2024               34.88                 41.57               6   \n",
       "2  2023               42.00                 56.80               6   \n",
       "3  2024               33.75                 42.90              10   \n",
       "4  2023               47.90                 39.62               1   \n",
       "\n",
       "   Family_Background  Mental_Health  Parental_Supervision  Community_Support  \\\n",
       "0                  1              5                     4                  3   \n",
       "1                 10              5                     9                  9   \n",
       "2                  2              7                     2                  5   \n",
       "3                  9              7                     2                 10   \n",
       "4                  2              4                     4                 10   \n",
       "\n",
       "   Media_Influence  Age_Group_10-14  ...  Gender_Male  \\\n",
       "0                1            False  ...        False   \n",
       "1                3             True  ...        False   \n",
       "2                1             True  ...        False   \n",
       "3                9            False  ...        False   \n",
       "4                3            False  ...         True   \n",
       "\n",
       "   Socioeconomic_Status_High  Socioeconomic_Status_Low  \\\n",
       "0                       True                     False   \n",
       "1                       True                     False   \n",
       "2                       True                     False   \n",
       "3                      False                     False   \n",
       "4                       True                     False   \n",
       "\n",
       "   Socioeconomic_Status_Middle  School_Programs_No  School_Programs_Yes  \\\n",
       "0                        False               False                 True   \n",
       "1                        False               False                 True   \n",
       "2                        False               False                 True   \n",
       "3                         True                True                False   \n",
       "4                        False                True                False   \n",
       "\n",
       "   Access_to_Counseling_No  Access_to_Counseling_Yes  Substance_Education_No  \\\n",
       "0                     True                     False                    True   \n",
       "1                     True                     False                   False   \n",
       "2                    False                      True                    True   \n",
       "3                    False                      True                    True   \n",
       "4                    False                      True                    True   \n",
       "\n",
       "   Substance_Education_Yes  \n",
       "0                    False  \n",
       "1                     True  \n",
       "2                    False  \n",
       "3                    False  \n",
       "4                    False  \n",
       "\n",
       "[5 rows x 31 columns]"
      ]
     },
     "execution_count": 108,
     "metadata": {},
     "output_type": "execute_result"
    }
   ],
   "source": [
    "df_encoded = pd.get_dummies(df, columns=categorical, drop_first=False)\n",
    "df_encoded.head()"
   ]
  },
  {
   "cell_type": "markdown",
   "metadata": {},
   "source": [
    "### Frequency of categorical features"
   ]
  },
  {
   "cell_type": "code",
   "execution_count": 109,
   "metadata": {},
   "outputs": [
    {
     "data": {
      "image/png": "[encoded data removed]",
      "text/plain": [
       "<Figure size 1200x800 with 6 Axes>"
      ]
     },
     "metadata": {},
     "output_type": "display_data"
    }
   ],
   "source": [
    "import seaborn as sns \n",
    "import matplotlib.pyplot as plt\n",
    "%matplotlib inline \n",
    "categorical_features = ['Age_Group', 'Gender', 'Socioeconomic_Status', 'School_Programs', 'Access_to_Counseling', 'Substance_Education']\n",
    "plt.figure(figsize=(12, 8)) \n",
    "for i, feature in enumerate(categorical,1):\n",
    "    plt.subplot(2, 3, i)\n",
    "    sns.countplot(data=df,x=feature,palette='viridis')\n",
    "    plt.title(f'Frequency of {feature}') \n",
    "plt.tight_layout()\n",
    "plt.show()"
   ]
  },
  {
   "cell_type": "markdown",
   "metadata": {},
   "source": [
    "1. Age_Group\n",
    "Hypothesis: Younger age groups (e.g., 15-19 or 20-24) may show higher rates of drug pattern compared to older groups like 60-69 or 70-79.\n",
    "Reasoning: Youth tend to be more likely to experiment with drugs, especially during adolescence or early adulthood. Older groups may have lower pattern levels due to different priorities or awareness of health risks.\n",
    "\n",
    "2. Gender\n",
    "Hypothesis: There could be a difference in drug pattern between genders. For example, males might show slightly higher pattern rates compared to females.\n",
    "Reasoning: In many studies, males have been found to engage in risky behaviors, including drug experimentation, more frequently than females. However, societal norms are changing, and these trends can vary depending on location and culture.\n",
    "\n",
    "3. Socioeconomic Status\n",
    "Hypothesis: Lower socioeconomic groups might have higher rates of drug experimentation.\n",
    "Reasoning: Individuals from low socioeconomic backgrounds might experience more stress, lack of resources, or peer pressure, which could drive higher experimentation rates. However, it is also possible that wealthier groups have access to different types of drugs, potentially affecting the pattern.\n",
    "\n",
    "4. School Programs\n",
    "Hypothesis: Youths participating in school programs aimed at drug awareness might have lower rates of experimentation compared to those who do not participate in such programs.\n",
    "Reasoning: Preventive education programs in schools often provide information about the dangers of drug use, which can discourage experimentation among participants.\n",
    "5. Access to Counseling\n",
    "Hypothesis: Those with access to counseling may have lower rates of experimentation.\n",
    "Reasoning: Access to mental health counseling can help youth cope with emotional or social challenges, reducing the need to turn to drugs as a coping mechanism.\n",
    "6. Substance Education\n",
    "Hypothesis: Youths with substance education programs in place may have lower rates of experimentation.\n",
    "Reasoning: Knowledge about the risks associated with substance use can serve as a deterrent, reducing experimentation."
   ]
  },
  {
   "cell_type": "markdown",
   "metadata": {},
   "source": [
    "### Exploring Numerical variables"
   ]
  },
  {
   "cell_type": "code",
   "execution_count": 110,
   "metadata": {},
   "outputs": [
    {
     "name": "stdout",
     "output_type": "stream",
     "text": [
      "There are 9 numerical variables\n",
      "\n",
      "The numerical variables are :  ['Year', 'Smoking_Prevalence', 'Drug_Experimentation', 'Peer_Influence', 'Family_Background', 'Mental_Health', 'Parental_Supervision', 'Community_Support', 'Media_Influence']\n"
     ]
    }
   ],
   "source": [
    "numerical = [var for var in df.columns if df[var].dtype!='O']\n",
    "print('There are {} numerical variables\\n'.format(len(numerical))) \n",
    "print('The numerical variables are : ',numerical)"
   ]
  },
  {
   "cell_type": "code",
   "execution_count": 111,
   "metadata": {},
   "outputs": [
    {
     "data": {
      "text/html": [
       "<div>\n",
       "<style scoped>\n",
       "    .dataframe tbody tr th:only-of-type {\n",
       "        vertical-align: middle;\n",
       "    }\n",
       "\n",
       "    .dataframe tbody tr th {\n",
       "        vertical-align: top;\n",
       "    }\n",
       "\n",
       "    .dataframe thead th {\n",
       "        text-align: right;\n",
       "    }\n",
       "</style>\n",
       "<table border=\"1\" class=\"dataframe\">\n",
       "  <thead>\n",
       "    <tr style=\"text-align: right;\">\n",
       "      <th></th>\n",
       "      <th>Year</th>\n",
       "      <th>Smoking_Prevalence</th>\n",
       "      <th>Drug_Experimentation</th>\n",
       "      <th>Peer_Influence</th>\n",
       "      <th>Family_Background</th>\n",
       "      <th>Mental_Health</th>\n",
       "      <th>Parental_Supervision</th>\n",
       "      <th>Community_Support</th>\n",
       "      <th>Media_Influence</th>\n",
       "    </tr>\n",
       "  </thead>\n",
       "  <tbody>\n",
       "    <tr>\n",
       "      <th>0</th>\n",
       "      <td>2024</td>\n",
       "      <td>18.85</td>\n",
       "      <td>32.40</td>\n",
       "      <td>5</td>\n",
       "      <td>1</td>\n",
       "      <td>5</td>\n",
       "      <td>4</td>\n",
       "      <td>3</td>\n",
       "      <td>1</td>\n",
       "    </tr>\n",
       "    <tr>\n",
       "      <th>1</th>\n",
       "      <td>2024</td>\n",
       "      <td>34.88</td>\n",
       "      <td>41.57</td>\n",
       "      <td>6</td>\n",
       "      <td>10</td>\n",
       "      <td>5</td>\n",
       "      <td>9</td>\n",
       "      <td>9</td>\n",
       "      <td>3</td>\n",
       "    </tr>\n",
       "    <tr>\n",
       "      <th>2</th>\n",
       "      <td>2023</td>\n",
       "      <td>42.00</td>\n",
       "      <td>56.80</td>\n",
       "      <td>6</td>\n",
       "      <td>2</td>\n",
       "      <td>7</td>\n",
       "      <td>2</td>\n",
       "      <td>5</td>\n",
       "      <td>1</td>\n",
       "    </tr>\n",
       "    <tr>\n",
       "      <th>3</th>\n",
       "      <td>2024</td>\n",
       "      <td>33.75</td>\n",
       "      <td>42.90</td>\n",
       "      <td>10</td>\n",
       "      <td>9</td>\n",
       "      <td>7</td>\n",
       "      <td>2</td>\n",
       "      <td>10</td>\n",
       "      <td>9</td>\n",
       "    </tr>\n",
       "    <tr>\n",
       "      <th>4</th>\n",
       "      <td>2023</td>\n",
       "      <td>47.90</td>\n",
       "      <td>39.62</td>\n",
       "      <td>1</td>\n",
       "      <td>2</td>\n",
       "      <td>4</td>\n",
       "      <td>4</td>\n",
       "      <td>10</td>\n",
       "      <td>3</td>\n",
       "    </tr>\n",
       "  </tbody>\n",
       "</table>\n",
       "</div>"
      ],
      "text/plain": [
       "   Year  Smoking_Prevalence  Drug_Experimentation  Peer_Influence  \\\n",
       "0  2024               18.85                 32.40               5   \n",
       "1  2024               34.88                 41.57               6   \n",
       "2  2023               42.00                 56.80               6   \n",
       "3  2024               33.75                 42.90              10   \n",
       "4  2023               47.90                 39.62               1   \n",
       "\n",
       "   Family_Background  Mental_Health  Parental_Supervision  Community_Support  \\\n",
       "0                  1              5                     4                  3   \n",
       "1                 10              5                     9                  9   \n",
       "2                  2              7                     2                  5   \n",
       "3                  9              7                     2                 10   \n",
       "4                  2              4                     4                 10   \n",
       "\n",
       "   Media_Influence  \n",
       "0                1  \n",
       "1                3  \n",
       "2                1  \n",
       "3                9  \n",
       "4                3  "
      ]
     },
     "execution_count": 111,
     "metadata": {},
     "output_type": "execute_result"
    }
   ],
   "source": [
    "df[numerical].head()"
   ]
  },
  {
   "cell_type": "code",
   "execution_count": 112,
   "metadata": {},
   "outputs": [
    {
     "data": {
      "text/plain": [
       "Year                    0\n",
       "Smoking_Prevalence      0\n",
       "Drug_Experimentation    0\n",
       "Peer_Influence          0\n",
       "Family_Background       0\n",
       "Mental_Health           0\n",
       "Parental_Supervision    0\n",
       "Community_Support       0\n",
       "Media_Influence         0\n",
       "dtype: int64"
      ]
     },
     "execution_count": 112,
     "metadata": {},
     "output_type": "execute_result"
    }
   ],
   "source": [
    "df[numerical].isnull().sum()"
   ]
  },
  {
   "cell_type": "code",
   "execution_count": 113,
   "metadata": {},
   "outputs": [
    {
     "data": {
      "text/html": [
       "<div>\n",
       "<style scoped>\n",
       "    .dataframe tbody tr th:only-of-type {\n",
       "        vertical-align: middle;\n",
       "    }\n",
       "\n",
       "    .dataframe tbody tr th {\n",
       "        vertical-align: top;\n",
       "    }\n",
       "\n",
       "    .dataframe thead th {\n",
       "        text-align: right;\n",
       "    }\n",
       "</style>\n",
       "<table border=\"1\" class=\"dataframe\">\n",
       "  <thead>\n",
       "    <tr style=\"text-align: right;\">\n",
       "      <th></th>\n",
       "      <th>Year</th>\n",
       "      <th>Smoking_Prevalence</th>\n",
       "      <th>Drug_Experimentation</th>\n",
       "      <th>Peer_Influence</th>\n",
       "      <th>Family_Background</th>\n",
       "      <th>Mental_Health</th>\n",
       "      <th>Parental_Supervision</th>\n",
       "      <th>Community_Support</th>\n",
       "      <th>Media_Influence</th>\n",
       "    </tr>\n",
       "  </thead>\n",
       "  <tbody>\n",
       "    <tr>\n",
       "      <th>count</th>\n",
       "      <td>10000.000000</td>\n",
       "      <td>10000.000000</td>\n",
       "      <td>10000.000000</td>\n",
       "      <td>10000.000000</td>\n",
       "      <td>10000.000000</td>\n",
       "      <td>10000.000000</td>\n",
       "      <td>10000.000000</td>\n",
       "      <td>10000.000000</td>\n",
       "      <td>10000.000000</td>\n",
       "    </tr>\n",
       "    <tr>\n",
       "      <th>mean</th>\n",
       "      <td>2022.000500</td>\n",
       "      <td>27.439257</td>\n",
       "      <td>40.150182</td>\n",
       "      <td>5.440100</td>\n",
       "      <td>5.513300</td>\n",
       "      <td>5.469800</td>\n",
       "      <td>5.528000</td>\n",
       "      <td>5.544600</td>\n",
       "      <td>5.506200</td>\n",
       "    </tr>\n",
       "    <tr>\n",
       "      <th>std</th>\n",
       "      <td>1.425027</td>\n",
       "      <td>12.975528</td>\n",
       "      <td>17.515917</td>\n",
       "      <td>2.863151</td>\n",
       "      <td>2.865038</td>\n",
       "      <td>2.879326</td>\n",
       "      <td>2.891514</td>\n",
       "      <td>2.870302</td>\n",
       "      <td>2.872836</td>\n",
       "    </tr>\n",
       "    <tr>\n",
       "      <th>min</th>\n",
       "      <td>2020.000000</td>\n",
       "      <td>5.000000</td>\n",
       "      <td>10.000000</td>\n",
       "      <td>1.000000</td>\n",
       "      <td>1.000000</td>\n",
       "      <td>1.000000</td>\n",
       "      <td>1.000000</td>\n",
       "      <td>1.000000</td>\n",
       "      <td>1.000000</td>\n",
       "    </tr>\n",
       "    <tr>\n",
       "      <th>25%</th>\n",
       "      <td>2021.000000</td>\n",
       "      <td>16.160000</td>\n",
       "      <td>24.920000</td>\n",
       "      <td>3.000000</td>\n",
       "      <td>3.000000</td>\n",
       "      <td>3.000000</td>\n",
       "      <td>3.000000</td>\n",
       "      <td>3.000000</td>\n",
       "      <td>3.000000</td>\n",
       "    </tr>\n",
       "    <tr>\n",
       "      <th>50%</th>\n",
       "      <td>2022.000000</td>\n",
       "      <td>27.355000</td>\n",
       "      <td>40.100000</td>\n",
       "      <td>5.000000</td>\n",
       "      <td>6.000000</td>\n",
       "      <td>5.000000</td>\n",
       "      <td>6.000000</td>\n",
       "      <td>6.000000</td>\n",
       "      <td>6.000000</td>\n",
       "    </tr>\n",
       "    <tr>\n",
       "      <th>75%</th>\n",
       "      <td>2023.000000</td>\n",
       "      <td>38.672500</td>\n",
       "      <td>55.462500</td>\n",
       "      <td>8.000000</td>\n",
       "      <td>8.000000</td>\n",
       "      <td>8.000000</td>\n",
       "      <td>8.000000</td>\n",
       "      <td>8.000000</td>\n",
       "      <td>8.000000</td>\n",
       "    </tr>\n",
       "    <tr>\n",
       "      <th>max</th>\n",
       "      <td>2024.000000</td>\n",
       "      <td>50.000000</td>\n",
       "      <td>69.990000</td>\n",
       "      <td>10.000000</td>\n",
       "      <td>10.000000</td>\n",
       "      <td>10.000000</td>\n",
       "      <td>10.000000</td>\n",
       "      <td>10.000000</td>\n",
       "      <td>10.000000</td>\n",
       "    </tr>\n",
       "  </tbody>\n",
       "</table>\n",
       "</div>"
      ],
      "text/plain": [
       "               Year  Smoking_Prevalence  Drug_Experimentation  Peer_Influence  \\\n",
       "count  10000.000000        10000.000000          10000.000000    10000.000000   \n",
       "mean    2022.000500           27.439257             40.150182        5.440100   \n",
       "std        1.425027           12.975528             17.515917        2.863151   \n",
       "min     2020.000000            5.000000             10.000000        1.000000   \n",
       "25%     2021.000000           16.160000             24.920000        3.000000   \n",
       "50%     2022.000000           27.355000             40.100000        5.000000   \n",
       "75%     2023.000000           38.672500             55.462500        8.000000   \n",
       "max     2024.000000           50.000000             69.990000       10.000000   \n",
       "\n",
       "       Family_Background  Mental_Health  Parental_Supervision  \\\n",
       "count       10000.000000   10000.000000          10000.000000   \n",
       "mean            5.513300       5.469800              5.528000   \n",
       "std             2.865038       2.879326              2.891514   \n",
       "min             1.000000       1.000000              1.000000   \n",
       "25%             3.000000       3.000000              3.000000   \n",
       "50%             6.000000       5.000000              6.000000   \n",
       "75%             8.000000       8.000000              8.000000   \n",
       "max            10.000000      10.000000             10.000000   \n",
       "\n",
       "       Community_Support  Media_Influence  \n",
       "count       10000.000000     10000.000000  \n",
       "mean            5.544600         5.506200  \n",
       "std             2.870302         2.872836  \n",
       "min             1.000000         1.000000  \n",
       "25%             3.000000         3.000000  \n",
       "50%             6.000000         6.000000  \n",
       "75%             8.000000         8.000000  \n",
       "max            10.000000        10.000000  "
      ]
     },
     "execution_count": 113,
     "metadata": {},
     "output_type": "execute_result"
    }
   ],
   "source": [
    "df[numerical].describe()"
   ]
  },
  {
   "cell_type": "markdown",
   "metadata": {},
   "source": [
    "Smoking_Prevalence (mean = 27.44):\n",
    "The mean smoking prevalence is 27.44%, with a standard deviation of 12.98%. Smoking prevalence could be a gateway factor to drug experimentation.\n",
    "Smoking habits can correlate with drug use patterns, so you can explore this further by seeing if higher smoking prevalence correlates with increased drug experimentation.\n",
    "\n",
    "Drug_Experimentation (mean = 40.15):\n",
    "The average drug experimentation rate is 40.15%, with a wide range of values from 10.00% to 69.99%.\n",
    "This indicates that a significant portion of the youth population is experimenting with drugs. Further analysis might reveal specific factors (e.g., age, gender, socioeconomic status) driving this trend.\n",
    "\n",
    "Peer_Influence (mean = 5.44):\n",
    "Peer influence has a mean of 5.44 on a scale of 1 to 10, suggesting that peer pressure may be a moderate factor in drug use decisions.\n",
    "Peer influence is a known risk factor for drug experimentation, and high values here should be analyzed in relation to drug use.\n",
    "\n",
    "Family_Background (mean = 5.51):\n",
    "The average score of 5.51 indicates family background could be a mid-range factor. The role of family stability and history can either deter or increase the likelihood of drug experimentation.\n",
    "Mental_Health (mean = 5.47):\n",
    "\n",
    "The mental health score is 5.47, indicating that youth mental health is a moderate issue. Poor mental health often correlates with higher rates of substance use.\n",
    "This variable can help identify whether mental health is contributing to experimentation rates.\n",
    "Parental_Supervision (mean = 5.53):\n",
    "\n",
    "Moderate parental supervision (mean = 5.53) might suggest that lack of oversight could contribute to increased experimentation, though the impact will need further analysis.\n",
    "\n",
    "Community_Support (mean = 5.54):\n",
    "Community support is moderately present, but stronger support networks might reduce drug experimentation.\n",
    "Media_Influence (mean = 5.51):\n",
    "\n",
    "Media influence is another factor that could affect drug experimentation, especially with the portrayal of drug use in media."
   ]
  },
  {
   "cell_type": "code",
   "execution_count": 114,
   "metadata": {},
   "outputs": [
    {
     "name": "stdout",
     "output_type": "stream",
     "text": [
      "<class 'pandas.core.frame.DataFrame'>\n",
      "RangeIndex: 10000 entries, 0 to 9999\n",
      "Data columns (total 15 columns):\n",
      " #   Column                Non-Null Count  Dtype  \n",
      "---  ------                --------------  -----  \n",
      " 0   Year                  10000 non-null  int64  \n",
      " 1   Age_Group             10000 non-null  object \n",
      " 2   Gender                10000 non-null  object \n",
      " 3   Smoking_Prevalence    10000 non-null  float64\n",
      " 4   Drug_Experimentation  10000 non-null  float64\n",
      " 5   Socioeconomic_Status  10000 non-null  object \n",
      " 6   Peer_Influence        10000 non-null  int64  \n",
      " 7   School_Programs       10000 non-null  object \n",
      " 8   Family_Background     10000 non-null  int64  \n",
      " 9   Mental_Health         10000 non-null  int64  \n",
      " 10  Access_to_Counseling  10000 non-null  object \n",
      " 11  Parental_Supervision  10000 non-null  int64  \n",
      " 12  Substance_Education   10000 non-null  object \n",
      " 13  Community_Support     10000 non-null  int64  \n",
      " 14  Media_Influence       10000 non-null  int64  \n",
      "dtypes: float64(2), int64(7), object(6)\n",
      "memory usage: 1.1+ MB\n"
     ]
    }
   ],
   "source": [
    "df.info()"
   ]
  },
  {
   "cell_type": "code",
   "execution_count": 115,
   "metadata": {},
   "outputs": [
    {
     "data": {
      "text/html": [
       "<div>\n",
       "<style scoped>\n",
       "    .dataframe tbody tr th:only-of-type {\n",
       "        vertical-align: middle;\n",
       "    }\n",
       "\n",
       "    .dataframe tbody tr th {\n",
       "        vertical-align: top;\n",
       "    }\n",
       "\n",
       "    .dataframe thead th {\n",
       "        text-align: right;\n",
       "    }\n",
       "</style>\n",
       "<table border=\"1\" class=\"dataframe\">\n",
       "  <thead>\n",
       "    <tr style=\"text-align: right;\">\n",
       "      <th></th>\n",
       "      <th>Age_Group</th>\n",
       "      <th>Gender</th>\n",
       "      <th>Socioeconomic_Status</th>\n",
       "      <th>School_Programs</th>\n",
       "      <th>Access_to_Counseling</th>\n",
       "      <th>Substance_Education</th>\n",
       "    </tr>\n",
       "  </thead>\n",
       "  <tbody>\n",
       "    <tr>\n",
       "      <th>0</th>\n",
       "      <td>15-19</td>\n",
       "      <td>Both</td>\n",
       "      <td>High</td>\n",
       "      <td>Yes</td>\n",
       "      <td>No</td>\n",
       "      <td>No</td>\n",
       "    </tr>\n",
       "    <tr>\n",
       "      <th>1</th>\n",
       "      <td>10-14</td>\n",
       "      <td>Female</td>\n",
       "      <td>High</td>\n",
       "      <td>Yes</td>\n",
       "      <td>No</td>\n",
       "      <td>Yes</td>\n",
       "    </tr>\n",
       "    <tr>\n",
       "      <th>2</th>\n",
       "      <td>10-14</td>\n",
       "      <td>Both</td>\n",
       "      <td>High</td>\n",
       "      <td>Yes</td>\n",
       "      <td>Yes</td>\n",
       "      <td>No</td>\n",
       "    </tr>\n",
       "    <tr>\n",
       "      <th>3</th>\n",
       "      <td>40-49</td>\n",
       "      <td>Both</td>\n",
       "      <td>Middle</td>\n",
       "      <td>No</td>\n",
       "      <td>Yes</td>\n",
       "      <td>No</td>\n",
       "    </tr>\n",
       "    <tr>\n",
       "      <th>4</th>\n",
       "      <td>15-19</td>\n",
       "      <td>Male</td>\n",
       "      <td>High</td>\n",
       "      <td>No</td>\n",
       "      <td>Yes</td>\n",
       "      <td>No</td>\n",
       "    </tr>\n",
       "  </tbody>\n",
       "</table>\n",
       "</div>"
      ],
      "text/plain": [
       "  Age_Group  Gender Socioeconomic_Status School_Programs Access_to_Counseling  \\\n",
       "0     15-19    Both                 High             Yes                   No   \n",
       "1     10-14  Female                 High             Yes                   No   \n",
       "2     10-14    Both                 High             Yes                  Yes   \n",
       "3     40-49    Both               Middle              No                  Yes   \n",
       "4     15-19    Male                 High              No                  Yes   \n",
       "\n",
       "  Substance_Education  \n",
       "0                  No  \n",
       "1                 Yes  \n",
       "2                  No  \n",
       "3                  No  \n",
       "4                  No  "
      ]
     },
     "execution_count": 115,
     "metadata": {},
     "output_type": "execute_result"
    }
   ],
   "source": [
    "df[categorical].head()"
   ]
  },
  {
   "cell_type": "code",
   "execution_count": 116,
   "metadata": {},
   "outputs": [
    {
     "data": {
      "text/plain": [
       "Age_Group\n",
       "20-24    1045\n",
       "30-39    1021\n",
       "60-69    1020\n",
       "15-19    1014\n",
       "10-14    1007\n",
       "40-49    1001\n",
       "50-59    1001\n",
       "80+       979\n",
       "25-29     974\n",
       "70-79     938\n",
       "Name: count, dtype: int64"
      ]
     },
     "execution_count": 116,
     "metadata": {},
     "output_type": "execute_result"
    }
   ],
   "source": [
    "df['Age_Group'].value_counts()"
   ]
  },
  {
   "cell_type": "code",
   "execution_count": 117,
   "metadata": {},
   "outputs": [
    {
     "name": "stdout",
     "output_type": "stream",
     "text": [
      "<class 'pandas.core.frame.DataFrame'>\n",
      "RangeIndex: 10000 entries, 0 to 9999\n",
      "Data columns (total 15 columns):\n",
      " #   Column                Non-Null Count  Dtype  \n",
      "---  ------                --------------  -----  \n",
      " 0   Year                  10000 non-null  int64  \n",
      " 1   Age_Group             10000 non-null  int64  \n",
      " 2   Gender                10000 non-null  object \n",
      " 3   Smoking_Prevalence    10000 non-null  float64\n",
      " 4   Drug_Experimentation  10000 non-null  float64\n",
      " 5   Socioeconomic_Status  10000 non-null  object \n",
      " 6   Peer_Influence        10000 non-null  int64  \n",
      " 7   School_Programs       10000 non-null  object \n",
      " 8   Family_Background     10000 non-null  int64  \n",
      " 9   Mental_Health         10000 non-null  int64  \n",
      " 10  Access_to_Counseling  10000 non-null  object \n",
      " 11  Parental_Supervision  10000 non-null  int64  \n",
      " 12  Substance_Education   10000 non-null  object \n",
      " 13  Community_Support     10000 non-null  int64  \n",
      " 14  Media_Influence       10000 non-null  int64  \n",
      "dtypes: float64(2), int64(8), object(5)\n",
      "memory usage: 1.1+ MB\n"
     ]
    }
   ],
   "source": [
    "\n",
    "\n",
    "# Define a function to convert age ranges to integers\n",
    "def convert_age_group_to_int(age_group):\n",
    "    if '+' in age_group:\n",
    "        return int(age_group.replace('+', ''))  # For age group like '80+'\n",
    "    else:\n",
    "        # Split the range and take the average\n",
    "        start, end = map(int, age_group.split('-'))\n",
    "        return (start + end) // 2  # Integer midpoint\n",
    "\n",
    "# Apply the conversion function to the Age_Group column\n",
    "df['Age_Group'] = df['Age_Group'].apply(convert_age_group_to_int)\n",
    "\n",
    "df.info()\n"
   ]
  },
  {
   "cell_type": "code",
   "execution_count": 118,
   "metadata": {},
   "outputs": [
    {
     "data": {
      "text/html": [
       "<div>\n",
       "<style scoped>\n",
       "    .dataframe tbody tr th:only-of-type {\n",
       "        vertical-align: middle;\n",
       "    }\n",
       "\n",
       "    .dataframe tbody tr th {\n",
       "        vertical-align: top;\n",
       "    }\n",
       "\n",
       "    .dataframe thead th {\n",
       "        text-align: right;\n",
       "    }\n",
       "</style>\n",
       "<table border=\"1\" class=\"dataframe\">\n",
       "  <thead>\n",
       "    <tr style=\"text-align: right;\">\n",
       "      <th></th>\n",
       "      <th>Age_Group</th>\n",
       "      <th>Gender</th>\n",
       "      <th>Socioeconomic_Status</th>\n",
       "      <th>School_Programs</th>\n",
       "      <th>Access_to_Counseling</th>\n",
       "      <th>Substance_Education</th>\n",
       "    </tr>\n",
       "  </thead>\n",
       "  <tbody>\n",
       "    <tr>\n",
       "      <th>0</th>\n",
       "      <td>17</td>\n",
       "      <td>Both</td>\n",
       "      <td>High</td>\n",
       "      <td>Yes</td>\n",
       "      <td>No</td>\n",
       "      <td>No</td>\n",
       "    </tr>\n",
       "    <tr>\n",
       "      <th>1</th>\n",
       "      <td>12</td>\n",
       "      <td>Female</td>\n",
       "      <td>High</td>\n",
       "      <td>Yes</td>\n",
       "      <td>No</td>\n",
       "      <td>Yes</td>\n",
       "    </tr>\n",
       "    <tr>\n",
       "      <th>2</th>\n",
       "      <td>12</td>\n",
       "      <td>Both</td>\n",
       "      <td>High</td>\n",
       "      <td>Yes</td>\n",
       "      <td>Yes</td>\n",
       "      <td>No</td>\n",
       "    </tr>\n",
       "    <tr>\n",
       "      <th>3</th>\n",
       "      <td>44</td>\n",
       "      <td>Both</td>\n",
       "      <td>Middle</td>\n",
       "      <td>No</td>\n",
       "      <td>Yes</td>\n",
       "      <td>No</td>\n",
       "    </tr>\n",
       "    <tr>\n",
       "      <th>4</th>\n",
       "      <td>17</td>\n",
       "      <td>Male</td>\n",
       "      <td>High</td>\n",
       "      <td>No</td>\n",
       "      <td>Yes</td>\n",
       "      <td>No</td>\n",
       "    </tr>\n",
       "  </tbody>\n",
       "</table>\n",
       "</div>"
      ],
      "text/plain": [
       "   Age_Group  Gender Socioeconomic_Status School_Programs  \\\n",
       "0         17    Both                 High             Yes   \n",
       "1         12  Female                 High             Yes   \n",
       "2         12    Both                 High             Yes   \n",
       "3         44    Both               Middle              No   \n",
       "4         17    Male                 High              No   \n",
       "\n",
       "  Access_to_Counseling Substance_Education  \n",
       "0                   No                  No  \n",
       "1                   No                 Yes  \n",
       "2                  Yes                  No  \n",
       "3                  Yes                  No  \n",
       "4                  Yes                  No  "
      ]
     },
     "execution_count": 118,
     "metadata": {},
     "output_type": "execute_result"
    }
   ],
   "source": [
    "df[categorical].head()"
   ]
  },
  {
   "cell_type": "code",
   "execution_count": 119,
   "metadata": {},
   "outputs": [
    {
     "name": "stdout",
     "output_type": "stream",
     "text": [
      "<class 'pandas.core.frame.DataFrame'>\n",
      "RangeIndex: 10000 entries, 0 to 9999\n",
      "Data columns (total 22 columns):\n",
      " #   Column                       Non-Null Count  Dtype  \n",
      "---  ------                       --------------  -----  \n",
      " 0   Year                         10000 non-null  int64  \n",
      " 1   Age_Group                    10000 non-null  int64  \n",
      " 2   Smoking_Prevalence           10000 non-null  float64\n",
      " 3   Drug_Experimentation         10000 non-null  float64\n",
      " 4   Peer_Influence               10000 non-null  int64  \n",
      " 5   Family_Background            10000 non-null  int64  \n",
      " 6   Mental_Health                10000 non-null  int64  \n",
      " 7   Parental_Supervision         10000 non-null  int64  \n",
      " 8   Community_Support            10000 non-null  int64  \n",
      " 9   Media_Influence              10000 non-null  int64  \n",
      " 10  Gender_Both                  10000 non-null  int32  \n",
      " 11  Gender_Female                10000 non-null  int32  \n",
      " 12  Gender_Male                  10000 non-null  int32  \n",
      " 13  Socioeconomic_Status_High    10000 non-null  int32  \n",
      " 14  Socioeconomic_Status_Low     10000 non-null  int32  \n",
      " 15  Socioeconomic_Status_Middle  10000 non-null  int32  \n",
      " 16  School_Programs_No           10000 non-null  int32  \n",
      " 17  School_Programs_Yes          10000 non-null  int32  \n",
      " 18  Access_to_Counseling_No      10000 non-null  int32  \n",
      " 19  Access_to_Counseling_Yes     10000 non-null  int32  \n",
      " 20  Substance_Education_No       10000 non-null  int32  \n",
      " 21  Substance_Education_Yes      10000 non-null  int32  \n",
      "dtypes: float64(2), int32(12), int64(8)\n",
      "memory usage: 1.2 MB\n"
     ]
    }
   ],
   "source": [
    "# Assuming df is your DataFrame and these are the categorical columns to one-hot encode\n",
    "categorical_columns = ['Gender', 'Socioeconomic_Status', 'School_Programs', 'Access_to_Counseling', 'Substance_Education']\n",
    "\n",
    "# Apply one-hot encoding directly to df, using pd.get_dummies() and update df with new columns\n",
    "df = pd.get_dummies(df, columns=categorical_columns, drop_first=False,dtype='int')\n",
    "\n",
    "# This will overwrite df with the one-hot encoded columns included\n",
    "df.info()\n"
   ]
  },
  {
   "cell_type": "code",
   "execution_count": 120,
   "metadata": {},
   "outputs": [
    {
     "data": {
      "text/html": [
       "<div>\n",
       "<style scoped>\n",
       "    .dataframe tbody tr th:only-of-type {\n",
       "        vertical-align: middle;\n",
       "    }\n",
       "\n",
       "    .dataframe tbody tr th {\n",
       "        vertical-align: top;\n",
       "    }\n",
       "\n",
       "    .dataframe thead th {\n",
       "        text-align: right;\n",
       "    }\n",
       "</style>\n",
       "<table border=\"1\" class=\"dataframe\">\n",
       "  <thead>\n",
       "    <tr style=\"text-align: right;\">\n",
       "      <th></th>\n",
       "      <th>Year</th>\n",
       "      <th>Age_Group</th>\n",
       "      <th>Smoking_Prevalence</th>\n",
       "      <th>Drug_Experimentation</th>\n",
       "      <th>Peer_Influence</th>\n",
       "      <th>Family_Background</th>\n",
       "      <th>Mental_Health</th>\n",
       "      <th>Parental_Supervision</th>\n",
       "      <th>Community_Support</th>\n",
       "      <th>Media_Influence</th>\n",
       "      <th>...</th>\n",
       "      <th>Gender_Male</th>\n",
       "      <th>Socioeconomic_Status_High</th>\n",
       "      <th>Socioeconomic_Status_Low</th>\n",
       "      <th>Socioeconomic_Status_Middle</th>\n",
       "      <th>School_Programs_No</th>\n",
       "      <th>School_Programs_Yes</th>\n",
       "      <th>Access_to_Counseling_No</th>\n",
       "      <th>Access_to_Counseling_Yes</th>\n",
       "      <th>Substance_Education_No</th>\n",
       "      <th>Substance_Education_Yes</th>\n",
       "    </tr>\n",
       "  </thead>\n",
       "  <tbody>\n",
       "    <tr>\n",
       "      <th>0</th>\n",
       "      <td>2024</td>\n",
       "      <td>17</td>\n",
       "      <td>18.85</td>\n",
       "      <td>32.40</td>\n",
       "      <td>5</td>\n",
       "      <td>1</td>\n",
       "      <td>5</td>\n",
       "      <td>4</td>\n",
       "      <td>3</td>\n",
       "      <td>1</td>\n",
       "      <td>...</td>\n",
       "      <td>0</td>\n",
       "      <td>1</td>\n",
       "      <td>0</td>\n",
       "      <td>0</td>\n",
       "      <td>0</td>\n",
       "      <td>1</td>\n",
       "      <td>1</td>\n",
       "      <td>0</td>\n",
       "      <td>1</td>\n",
       "      <td>0</td>\n",
       "    </tr>\n",
       "    <tr>\n",
       "      <th>1</th>\n",
       "      <td>2024</td>\n",
       "      <td>12</td>\n",
       "      <td>34.88</td>\n",
       "      <td>41.57</td>\n",
       "      <td>6</td>\n",
       "      <td>10</td>\n",
       "      <td>5</td>\n",
       "      <td>9</td>\n",
       "      <td>9</td>\n",
       "      <td>3</td>\n",
       "      <td>...</td>\n",
       "      <td>0</td>\n",
       "      <td>1</td>\n",
       "      <td>0</td>\n",
       "      <td>0</td>\n",
       "      <td>0</td>\n",
       "      <td>1</td>\n",
       "      <td>1</td>\n",
       "      <td>0</td>\n",
       "      <td>0</td>\n",
       "      <td>1</td>\n",
       "    </tr>\n",
       "    <tr>\n",
       "      <th>2</th>\n",
       "      <td>2023</td>\n",
       "      <td>12</td>\n",
       "      <td>42.00</td>\n",
       "      <td>56.80</td>\n",
       "      <td>6</td>\n",
       "      <td>2</td>\n",
       "      <td>7</td>\n",
       "      <td>2</td>\n",
       "      <td>5</td>\n",
       "      <td>1</td>\n",
       "      <td>...</td>\n",
       "      <td>0</td>\n",
       "      <td>1</td>\n",
       "      <td>0</td>\n",
       "      <td>0</td>\n",
       "      <td>0</td>\n",
       "      <td>1</td>\n",
       "      <td>0</td>\n",
       "      <td>1</td>\n",
       "      <td>1</td>\n",
       "      <td>0</td>\n",
       "    </tr>\n",
       "    <tr>\n",
       "      <th>3</th>\n",
       "      <td>2024</td>\n",
       "      <td>44</td>\n",
       "      <td>33.75</td>\n",
       "      <td>42.90</td>\n",
       "      <td>10</td>\n",
       "      <td>9</td>\n",
       "      <td>7</td>\n",
       "      <td>2</td>\n",
       "      <td>10</td>\n",
       "      <td>9</td>\n",
       "      <td>...</td>\n",
       "      <td>0</td>\n",
       "      <td>0</td>\n",
       "      <td>0</td>\n",
       "      <td>1</td>\n",
       "      <td>1</td>\n",
       "      <td>0</td>\n",
       "      <td>0</td>\n",
       "      <td>1</td>\n",
       "      <td>1</td>\n",
       "      <td>0</td>\n",
       "    </tr>\n",
       "    <tr>\n",
       "      <th>4</th>\n",
       "      <td>2023</td>\n",
       "      <td>17</td>\n",
       "      <td>47.90</td>\n",
       "      <td>39.62</td>\n",
       "      <td>1</td>\n",
       "      <td>2</td>\n",
       "      <td>4</td>\n",
       "      <td>4</td>\n",
       "      <td>10</td>\n",
       "      <td>3</td>\n",
       "      <td>...</td>\n",
       "      <td>1</td>\n",
       "      <td>1</td>\n",
       "      <td>0</td>\n",
       "      <td>0</td>\n",
       "      <td>1</td>\n",
       "      <td>0</td>\n",
       "      <td>0</td>\n",
       "      <td>1</td>\n",
       "      <td>1</td>\n",
       "      <td>0</td>\n",
       "    </tr>\n",
       "  </tbody>\n",
       "</table>\n",
       "<p>5 rows × 22 columns</p>\n",
       "</div>"
      ],
      "text/plain": [
       "   Year  Age_Group  Smoking_Prevalence  Drug_Experimentation  Peer_Influence  \\\n",
       "0  2024         17               18.85                 32.40               5   \n",
       "1  2024         12               34.88                 41.57               6   \n",
       "2  2023         12               42.00                 56.80               6   \n",
       "3  2024         44               33.75                 42.90              10   \n",
       "4  2023         17               47.90                 39.62               1   \n",
       "\n",
       "   Family_Background  Mental_Health  Parental_Supervision  Community_Support  \\\n",
       "0                  1              5                     4                  3   \n",
       "1                 10              5                     9                  9   \n",
       "2                  2              7                     2                  5   \n",
       "3                  9              7                     2                 10   \n",
       "4                  2              4                     4                 10   \n",
       "\n",
       "   Media_Influence  ...  Gender_Male  Socioeconomic_Status_High  \\\n",
       "0                1  ...            0                          1   \n",
       "1                3  ...            0                          1   \n",
       "2                1  ...            0                          1   \n",
       "3                9  ...            0                          0   \n",
       "4                3  ...            1                          1   \n",
       "\n",
       "   Socioeconomic_Status_Low  Socioeconomic_Status_Middle  School_Programs_No  \\\n",
       "0                         0                            0                   0   \n",
       "1                         0                            0                   0   \n",
       "2                         0                            0                   0   \n",
       "3                         0                            1                   1   \n",
       "4                         0                            0                   1   \n",
       "\n",
       "   School_Programs_Yes  Access_to_Counseling_No  Access_to_Counseling_Yes  \\\n",
       "0                    1                        1                         0   \n",
       "1                    1                        1                         0   \n",
       "2                    1                        0                         1   \n",
       "3                    0                        0                         1   \n",
       "4                    0                        0                         1   \n",
       "\n",
       "   Substance_Education_No  Substance_Education_Yes  \n",
       "0                       1                        0  \n",
       "1                       0                        1  \n",
       "2                       1                        0  \n",
       "3                       1                        0  \n",
       "4                       1                        0  \n",
       "\n",
       "[5 rows x 22 columns]"
      ]
     },
     "execution_count": 120,
     "metadata": {},
     "output_type": "execute_result"
    }
   ],
   "source": [
    "df.head()"
   ]
  },
  {
   "cell_type": "code",
   "execution_count": 121,
   "metadata": {},
   "outputs": [
    {
     "name": "stdout",
     "output_type": "stream",
     "text": [
      "          Year  Smoking_Prevalence  Drug_Experimentation  Peer_Influence  \\\n",
      "count  10000.0             10000.0               10000.0         10000.0   \n",
      "mean    2022.0                27.0                  40.0             5.0   \n",
      "std        1.0                13.0                  18.0             3.0   \n",
      "min     2020.0                 5.0                  10.0             1.0   \n",
      "25%     2021.0                16.0                  25.0             3.0   \n",
      "50%     2022.0                27.0                  40.0             5.0   \n",
      "75%     2023.0                39.0                  55.0             8.0   \n",
      "max     2024.0                50.0                  70.0            10.0   \n",
      "\n",
      "       Family_Background  Mental_Health  Parental_Supervision  \\\n",
      "count            10000.0        10000.0               10000.0   \n",
      "mean                 6.0            5.0                   6.0   \n",
      "std                  3.0            3.0                   3.0   \n",
      "min                  1.0            1.0                   1.0   \n",
      "25%                  3.0            3.0                   3.0   \n",
      "50%                  6.0            5.0                   6.0   \n",
      "75%                  8.0            8.0                   8.0   \n",
      "max                 10.0           10.0                  10.0   \n",
      "\n",
      "       Community_Support  Media_Influence  \n",
      "count            10000.0          10000.0  \n",
      "mean                 6.0              6.0  \n",
      "std                  3.0              3.0  \n",
      "min                  1.0              1.0  \n",
      "25%                  3.0              3.0  \n",
      "50%                  6.0              6.0  \n",
      "75%                  8.0              8.0  \n",
      "max                 10.0             10.0   2\n"
     ]
    }
   ],
   "source": [
    "print(round(df[numerical].describe()),2)"
   ]
  },
  {
   "cell_type": "code",
   "execution_count": 122,
   "metadata": {},
   "outputs": [],
   "source": [
    "class BoxplotVisualizer:\n",
    "    def __init__(self, df):\n",
    "        self.df = df\n",
    "    \n",
    "    def draw_boxplots(self):\n",
    "        # Set the style of seaborn for better aesthetics\n",
    "        sns.set(style=\"whitegrid\")\n",
    "        \n",
    "        # Iterate through each numerical column in the dataframe\n",
    "        for column in self.df.select_dtypes(include='number').columns:\n",
    "            plt.figure(figsize=(10, 5))  # Set the size of the figure\n",
    "            sns.boxplot(x=self.df[column])\n",
    "            plt.title(f'Boxplot of {column}')\n",
    "            plt.xlabel(column)\n",
    "            plt.show()"
   ]
  },
  {
   "cell_type": "code",
   "execution_count": 123,
   "metadata": {},
   "outputs": [
    {
     "data": {
      "image/png": "[encoded data removed]",
      "text/plain": [
       "<Figure size 1000x500 with 1 Axes>"
      ]
     },
     "metadata": {},
     "output_type": "display_data"
    },
    {
     "data": {
      "image/png": "[encoded data removed]",
      "text/plain": [
       "<Figure size 1000x500 with 1 Axes>"
      ]
     },
     "metadata": {},
     "output_type": "display_data"
    },
    {
     "data": {
      "image/png": "[encoded data removed]",
      "text/plain": [
       "<Figure size 1000x500 with 1 Axes>"
      ]
     },
     "metadata": {},
     "output_type": "display_data"
    },
    {
     "data": {
      "image/png": "[encoded data removed]",
      "text/plain": [
       "<Figure size 1000x500 with 1 Axes>"
      ]
     },
     "metadata": {},
     "output_type": "display_data"
    },
    {
     "data": {
      "image/png": "[encoded data removed]",
      "text/plain": [
       "<Figure size 1000x500 with 1 Axes>"
      ]
     },
     "metadata": {},
     "output_type": "display_data"
    },
    {
     "data": {
      "image/png": "[encoded data removed]",
      "text/plain": [
       "<Figure size 1000x500 with 1 Axes>"
      ]
     },
     "metadata": {},
     "output_type": "display_data"
    },
    {
     "data": {
      "image/png": "[encoded data removed]",
      "text/plain": [
       "<Figure size 1000x500 with 1 Axes>"
      ]
     },
     "metadata": {},
     "output_type": "display_data"
    },
    {
     "data": {
      "image/png": "[encoded data removed]",
      "text/plain": [
       "<Figure size 1000x500 with 1 Axes>"
      ]
     },
     "metadata": {},
     "output_type": "display_data"
    },
    {
     "data": {
      "image/png": "[encoded data removed]",
      "text/plain": [
       "<Figure size 1000x500 with 1 Axes>"
      ]
     },
     "metadata": {},
     "output_type": "display_data"
    }
   ],
   "source": [
    "visualizer = BoxplotVisualizer(df[numerical])\n",
    "visualizer.draw_boxplots()\n"
   ]
  },
  {
   "cell_type": "markdown",
   "metadata": {},
   "source": [
    "No outliers found"
   ]
  }
 ],
 "metadata": {
  "kernelspec": {
   "display_name": "base",
   "language": "python",
   "name": "python3"
  },
  "language_info": {
   "codemirror_mode": {
    "name": "ipython",
    "version": 3
   },
   "file_extension": ".py",
   "mimetype": "text/x-python",
   "name": "python",
   "nbconvert_exporter": "python",
   "pygments_lexer": "ipython3",
   "version": "3.11.7"
  }
 },
 "nbformat": 4,
 "nbformat_minor": 2
}
